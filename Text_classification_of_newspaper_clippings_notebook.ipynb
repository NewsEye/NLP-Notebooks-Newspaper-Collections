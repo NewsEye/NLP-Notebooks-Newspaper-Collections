{
 "cells": [
  {
   "cell_type": "markdown",
   "metadata": {},
   "source": [
    "# Text classification for topic-specific newspaper collections"
   ]
  },
  {
   "cell_type": "markdown",
   "metadata": {},
   "source": [
    "Text classification is the process of categorizing text into pre-defined groups. By using Natural Language Processing (NLP), text classifiers can automatically analyze text and then assign a set of given categories based on the research question. This automated classification of text into predefined categories is an important method for managing and processing a large number of newspaper clippings. This also applies to subcorpora for a specific research topic (e.g. migration). The aim of this notebook is to train a model using your previously manually created training/test corpus and to use this model to get an overview of the category distribution throughout your collection (see figure below). Another goal is to export your categorized data for further analysis. This makes it possible to examine, for example, the advertisement about a specific topic.\n",
    "\n",
    "This notebook was used with a collection for the case study on emigration (1850-1950) and shows how a model can be trained to classify topic-specific collections. For the training/testing corpus, a collection with the keywords \"Auswander*\", \"Ausgewanderte\", \"Emigrant*\", \"Emigrierte\", \"Emigration\", \"Kolonist*\", and \"Ansiedler*\" (all different German words for emigrants or emigration) have been created. In addition, information on the pre-defined gropus (news, ads, culture...) were added using numbers between one and ten. \n",
    "\n",
    "For classification, topic modelling (LDA) was chosen because it showed the best performance in classification (after experiments with word embeddings or LDA and word embeddings combined). LDA provides a way to group documents by topic and perform similarity searches and improve precision. Thanks to sklearn, it is relatively easy to test different classifiers for a given topic classification task. Logistic regression was chosen as binary classifier. \n",
    "\n",
    "*Following graph demonstrates the distribution of the pre-defined categories in newspaper clippings of seleceted Austrian Newspapers (790 clippings) on the topic of emigration.* \n",
    "\n",
    "![Collection on the topic of Emigration](images/categories.PNG)\n",
    "\n",
    "\n",
    "Read more about <a href=\"https://monkeylearn.com/blog/introduction-to-topic-modeling/\" target=\"_blank\">Topic Modeling</a> and <a href=\"https://towardsdatascience.com/logistic-regression-model-tuning-with-scikit-learn-part-1-425142e01af5\" target=\"_blank\">Logistic Regression Model Tuning</a>.\n",
    "\n",
    "Acknowledgments:\n",
    "\n",
    "This work has been inspired by a notebook on <a href=\"https://www.kaggle.com/vukglisovic/classification-combining-lda-and-word2vec\" target=\"_blank\">LDA and word embeddings</a> and several other soursces that provided help on how to buid models. This work was supported by the European Union's Horizon 2020 research and innovation programme under grant 770299 (NewsEye)."
   ]
  },
  {
   "cell_type": "markdown",
   "metadata": {},
   "source": [
    "## Step by step...\n",
    "* [Prepare a small manually annotated collection](#1-bullet)\n",
    "* [Install packages in command line](#2-bullet)\n",
    "* [Import packages](#3-bullet)\n",
    "* [Import your manually annotated newspaper collection](#4-bullet)\n",
    "* [Clean and tokenize the text (pre-processing)](#5-bullet)\n",
    "* [Have a look at your data](#6-bullet)\n",
    "* [Use your dataset to create a training corpus and test corpus](#7-bullet)\n",
    "* [Create topic models using your training corpus](#8-bullet)\n",
    "* [Have a look at your topics](#9-bullet)\n",
    "* [Create the feature vector ](#10-bullet)\n",
    "* [Have a look at the top words for each category](#11-bullet)\n",
    "* [Classification and hyperparameter tuning](#12-bullet)\n",
    "* [Using the test corpus](#13-bullet)\n",
    "* [Logistic Regression](#14-bullet)\n",
    "* [Now it is time to make the classifications](#15-bullet)\n",
    "* [Calculate the score for each category as well as the overall score](#16-bullet)\n",
    "* [If your overall score is higher than 80 percent, you can start to use your whole collection](#17-bullet)\n",
    "* [Clean (pre-process) your whole collection](#18-bullet)\n",
    "* [Now it is time to make the classifications for the whole collection](#19-bullet)\n",
    "* [Create a dataframe with the results](#20-bullet)\n",
    "* [If you are satisfied with the results, you can save them in the form of your original file](#21-bullet)\n",
    "* [Visualize your results](#22-bullet)\n"
   ]
  },
  {
   "cell_type": "markdown",
   "metadata": {},
   "source": [
    "## Prepare a small manually annotated collection <a class=\"anchor\" id=\"1-bullet\"></a>\n",
    "\n",
    "This program uses annotations for evaluation and classification. Therefore, a manually annotated collection of  80 to 100 articles per category is needed to work with this program. To create this collection, the numbers 0 to 7 have been assignet to the articles, each number representing one newspaper category (ads, news, culture_literature_stories_letters, appeals_donations_information, crime, finance, statistic). When you create your own collection, make sure you create a representative collection of the whole search result. If you use a long time period, make sure all timer periods are represented in your small collection. \n",
    "The newspaper articles with the annotations should be saved as CSV."
   ]
  },
  {
   "cell_type": "markdown",
   "metadata": {},
   "source": [
    "## Install packages in command line <a class=\"anchor\" id=\"2-bullet\"></a>\n",
    " \n",
    "If you need help on how to pip install, have a look at this tutorial: https://packaging.python.org/tutorials/installing-packages/\n",
    "\n",
    "pip install gensim\n",
    "\n",
    "pip install PyLDAvis\n",
    "\n",
    "pip install spacy\n",
    "\n",
    "python -m spacy download de_core_web_sm\n",
    "\n",
    "pip install pandas\n",
    "\n",
    "pip install regex\n",
    "\n",
    "pip install nltk\n",
    "\n",
    "pip install matplotlib\n",
    "\n",
    "pip install numpy\n",
    "\n",
    "pip install seaborn\n",
    "\n",
    "pip install sklearn"
   ]
  },
  {
   "cell_type": "markdown",
   "metadata": {},
   "source": [
    "## Import packages <a class=\"anchor\" id=\"3-bullet\"></a>\n",
    "\n",
    "Before you can get started, you have to install and import some packages.\n",
    "\n",
    "#### Make sure you use the version 1.9.0 with smart_open: python -m pip install --upgrade smart_open==1.9.0\n"
   ]
  },
  {
   "cell_type": "code",
   "execution_count": 1,
   "metadata": {},
   "outputs": [],
   "source": [
    "# more common imports\n",
    "import pandas as pd\n",
    "import numpy as np\n",
    "from collections import Counter\n",
    "import re\n",
    "import sys\n",
    "import time\n",
    "\n",
    "# preprocessing imports\n",
    "from sklearn.preprocessing import LabelEncoder\n",
    "from nltk.corpus import stopwords\n",
    "from nltk.stem.porter import PorterStemmer\n",
    "from gensim.utils import lemmatize, simple_preprocess\n",
    "import spacy\n",
    "\n",
    "# model imports\n",
    "from gensim.models.ldamulticore import LdaMulticore\n",
    "from sklearn.ensemble import RandomForestClassifier, AdaBoostClassifier\n",
    "from sklearn.linear_model import LogisticRegression\n",
    "\n",
    "# LDA\n",
    "import nltk\n",
    "import gensim\n",
    "from gensim.corpora import Dictionary\n",
    "import gensim, spacy, logging, warnings\n",
    "import gensim.corpora as corpora\n",
    "from gensim.models import CoherenceModel\n",
    "from nltk.corpus import stopwords\n",
    "from gensim.models import LdaModel\n",
    "from gensim import models, corpora, similarities\n",
    "\n",
    "# hyperparameter training imports\n",
    "from sklearn.model_selection import GridSearchCV\n",
    "\n",
    "# visualization imports\n",
    "from IPython.display import display\n",
    "import seaborn as sns\n",
    "import matplotlib.pyplot as plt\n",
    "import matplotlib.image as mpimg\n",
    "import base64\n",
    "import io\n",
    "%matplotlib inline\n",
    "\n",
    "\n",
    "# Frequency\n",
    "from nltk import FreqDist\n"
   ]
  },
  {
   "cell_type": "code",
   "execution_count": 2,
   "metadata": {},
   "outputs": [],
   "source": [
    "pd.set_option('mode.chained_assignment', None)"
   ]
  },
  {
   "cell_type": "markdown",
   "metadata": {},
   "source": [
    "## Import your manually annotated newspaper collection <a class=\"anchor\" id=\"4-bullet\"></a>\n",
    "And have a look at your data"
   ]
  },
  {
   "cell_type": "code",
   "execution_count": 3,
   "metadata": {},
   "outputs": [
    {
     "name": "stdout",
     "output_type": "stream",
     "text": [
      "(672, 7)\n"
     ]
    },
    {
     "data": {
      "text/html": [
       "<div>\n",
       "<style scoped>\n",
       "    .dataframe tbody tr th:only-of-type {\n",
       "        vertical-align: middle;\n",
       "    }\n",
       "\n",
       "    .dataframe tbody tr th {\n",
       "        vertical-align: top;\n",
       "    }\n",
       "\n",
       "    .dataframe thead th {\n",
       "        text-align: right;\n",
       "    }\n",
       "</style>\n",
       "<table border=\"1\" class=\"dataframe\">\n",
       "  <thead>\n",
       "    <tr style=\"text-align: right;\">\n",
       "      <th></th>\n",
       "      <th>id</th>\n",
       "      <th>language</th>\n",
       "      <th>date</th>\n",
       "      <th>newspaper_id</th>\n",
       "      <th>iiif_url</th>\n",
       "      <th>relevancy</th>\n",
       "      <th>text</th>\n",
       "    </tr>\n",
       "  </thead>\n",
       "  <tbody>\n",
       "    <tr>\n",
       "      <td>0</td>\n",
       "      <td>arbeiter_zeitung_aze19131209_article_127</td>\n",
       "      <td>de</td>\n",
       "      <td>1913-12-09T00:00:00Z</td>\n",
       "      <td>arbeiter_zeitung</td>\n",
       "      <td>https://platform.newseye.eu/iiif/arbeiter_zeit...</td>\n",
       "      <td>4</td>\n",
       "      <td>* Betrug an Auswanderern. Am 5. d. abends wurd...</td>\n",
       "    </tr>\n",
       "    <tr>\n",
       "      <td>1</td>\n",
       "      <td>arbeiter_zeitung_aze19121018_article_191</td>\n",
       "      <td>de</td>\n",
       "      <td>1912-10-18T00:00:00Z</td>\n",
       "      <td>arbeiter_zeitung</td>\n",
       "      <td>https://platform.newseye.eu/iiif/arbeiter_zeit...</td>\n",
       "      <td>4</td>\n",
       "      <td>Die maßlosen Schurkereien der Grenzpolizeibehö...</td>\n",
       "    </tr>\n",
       "    <tr>\n",
       "      <td>2</td>\n",
       "      <td>arbeiter_zeitung_aze19200205_article_81</td>\n",
       "      <td>de</td>\n",
       "      <td>1920-02-05T00:00:00Z</td>\n",
       "      <td>arbeiter_zeitung</td>\n",
       "      <td>https://platform.newseye.eu/iiif/arbeiter_zeit...</td>\n",
       "      <td>4</td>\n",
       "      <td>* Das Opfer von Bauernfüngern. Der Arbeiter Ar...</td>\n",
       "    </tr>\n",
       "  </tbody>\n",
       "</table>\n",
       "</div>"
      ],
      "text/plain": [
       "                                         id language                  date  \\\n",
       "0  arbeiter_zeitung_aze19131209_article_127       de  1913-12-09T00:00:00Z   \n",
       "1  arbeiter_zeitung_aze19121018_article_191       de  1912-10-18T00:00:00Z   \n",
       "2   arbeiter_zeitung_aze19200205_article_81       de  1920-02-05T00:00:00Z   \n",
       "\n",
       "       newspaper_id                                           iiif_url  \\\n",
       "0  arbeiter_zeitung  https://platform.newseye.eu/iiif/arbeiter_zeit...   \n",
       "1  arbeiter_zeitung  https://platform.newseye.eu/iiif/arbeiter_zeit...   \n",
       "2  arbeiter_zeitung  https://platform.newseye.eu/iiif/arbeiter_zeit...   \n",
       "\n",
       "   relevancy                                               text  \n",
       "0          4  * Betrug an Auswanderern. Am 5. d. abends wurd...  \n",
       "1          4  Die maßlosen Schurkereien der Grenzpolizeibehö...  \n",
       "2          4  * Das Opfer von Bauernfüngern. Der Arbeiter Ar...  "
      ]
     },
     "execution_count": 3,
     "metadata": {},
     "output_type": "execute_result"
    }
   ],
   "source": [
    "df = pd.read_csv('export_classification_emigration_new_03_07_2020_08_49.csv')\n",
    "\n",
    "print(df.shape)\n",
    "df.head(3)"
   ]
  },
  {
   "cell_type": "markdown",
   "metadata": {},
   "source": [
    "### Check the distribution of your annotated categories. \n",
    "Each category is assignet to a number: \n",
    "\n",
    "0 = Advertisements\n",
    " \n",
    "1 = News\n",
    "\n",
    "2 = Culture, Literature, Stories, and Letters\n",
    "\n",
    "3 = Appeals, Donations, and (help) informations\n",
    "\n",
    "4 = Crime\n",
    "\n",
    "6 = Finance\n",
    "\n",
    "7 = Statistic\n",
    "\n",
    "These categories where specifically chosen for a collection on emigration between 1850 and 1950. For this corpus, about 80 articles for each categorie were sufficient to train a model that delivers good results. However, it is important that the corpus is representative for this specific topic. "
   ]
  },
  {
   "cell_type": "code",
   "execution_count": 4,
   "metadata": {},
   "outputs": [
    {
     "data": {
      "text/plain": [
       "<matplotlib.axes._subplots.AxesSubplot at 0x226a0adc288>"
      ]
     },
     "execution_count": 4,
     "metadata": {},
     "output_type": "execute_result"
    },
    {
     "data": {
      "image/png": "[encoded data removed]",
      "text/plain": [
       "<Figure size 432x288 with 1 Axes>"
      ]
     },
     "metadata": {
      "needs_background": "light"
     },
     "output_type": "display_data"
    }
   ],
   "source": [
    "df.relevancy.value_counts().plot(kind='bar')"
   ]
  },
  {
   "cell_type": "markdown",
   "metadata": {},
   "source": [
    "## Clean and tokenize the text (pre-processing) <a class=\"anchor\" id=\"5-bullet\"></a>\n",
    "\n",
    "Before you can start with the training fo the topic models, you have to clean the text of your newspaper articles. The follwing functions remove punctuations, lower case the text, remove stop words and lemmatize the text. \n",
    "\n",
    "#### Stop words: \n",
    "You can change the language used for the stop words. You can also add your own stop words or other words you would like to ignore. It helps to ignore your search keywords. "
   ]
  },
  {
   "cell_type": "code",
   "execution_count": 5,
   "metadata": {},
   "outputs": [],
   "source": [
    "# Functions to clean, tokenize, and lemmatize the data\n",
    "def initial_clean(text):\n",
    "    text = re.sub(r'[^\\w\\s]','',text)\n",
    "    text = text.lower() \n",
    "    text = nltk.word_tokenize(text)\n",
    "    return text\n",
    "\n",
    "stop_words = stopwords.words('german')#change the language here\n",
    "# add your onw stop words\n",
    "stop_words.extend(['auswanderer', 'auswanderung', 'auswanderern'])\n",
    "def remove_stop_words(text):\n",
    "    return [word for word in text if word not in stop_words]\n",
    "\n",
    "stemmer = PorterStemmer()\n",
    "def stem_words(text):\n",
    "    try:\n",
    "        text = [stemmer.stem(word) for word in text]\n",
    "        text = [word for word in text if len(word) > 1] \n",
    "    except IndexError: \n",
    "        pass\n",
    "    return text\n",
    "\n",
    "def apply_all(text):\n",
    "    return stem_words(remove_stop_words(initial_clean(text)))"
   ]
  },
  {
   "cell_type": "code",
   "execution_count": 6,
   "metadata": {},
   "outputs": [],
   "source": [
    "df['tokenized'] = df['text'].apply(apply_all) "
   ]
  },
  {
   "cell_type": "markdown",
   "metadata": {},
   "source": [
    "## Have a look at your data <a class=\"anchor\" id=\"6-bullet\"></a>\n",
    "\n",
    "Check out, if everything went alright so far. Have a look at the number of words and their frequency distribution."
   ]
  },
  {
   "cell_type": "code",
   "execution_count": 7,
   "metadata": {},
   "outputs": [
    {
     "data": {
      "text/plain": [
       "'The number of unique words is 17967'"
      ]
     },
     "execution_count": 7,
     "metadata": {},
     "output_type": "execute_result"
    }
   ],
   "source": [
    "# first get a list of all words\n",
    "all_words = [word for item in list(df['tokenized']) for word in item]\n",
    "# use nltk fdist to get a frequency distribution of all words\n",
    "fdist = FreqDist(all_words)\n",
    "f\"The number of unique words is {len(fdist)}\""
   ]
  },
  {
   "cell_type": "code",
   "execution_count": 8,
   "metadata": {},
   "outputs": [
    {
     "name": "stdout",
     "output_type": "stream",
     "text": [
      "length of list: 672\n",
      "average document length: 76.30357142857143\n",
      "minimum document length: 4\n",
      "maximum document length: 602\n"
     ]
    }
   ],
   "source": [
    "# document length\n",
    "df['doc_len'] = df['tokenized'].apply(lambda x: len(x))\n",
    "doc_lengths = list(df['doc_len'])\n",
    "df.drop(labels='doc_len', axis=1, inplace=True)\n",
    "\n",
    "print(f\"length of list: {len(doc_lengths)}\")\n",
    "print(f\"average document length: {np.average(doc_lengths)}\")\n",
    "print(f\"minimum document length: {min(doc_lengths)}\")\n",
    "print(f\"maximum document length: {max(doc_lengths)}\")"
   ]
  },
  {
   "cell_type": "markdown",
   "metadata": {},
   "source": [
    "\n",
    "## Use your dataset to create a training corpus and test corpus <a class=\"anchor\" id=\"7-bullet\"></a>\n",
    "\n",
    "Before we use our model on a bigger, unseen collection, we use our manual annotated dataset to train the models and classify the newspaper clippings. This helps to control the output (the annotations show if the automated classification has worked corretly) and to adapt the code in order to get the best results for your own collection. \n",
    "\n",
    "You can change the size of training and testing corpus by changing the number in following line: msk = np.random.rand(len(df)) < 0.899\n"
   ]
  },
  {
   "cell_type": "code",
   "execution_count": 9,
   "metadata": {},
   "outputs": [],
   "source": [
    "# create a mask of binary values\n",
    "msk = np.random.rand(len(df)) < 0.899"
   ]
  },
  {
   "cell_type": "code",
   "execution_count": 10,
   "metadata": {},
   "outputs": [],
   "source": [
    "train_df = df[msk]\n",
    "train_df.reset_index(drop=True,inplace=True)\n",
    "\n",
    "test_df = df[~msk]\n",
    "test_df.reset_index(drop=True,inplace=True)"
   ]
  },
  {
   "cell_type": "code",
   "execution_count": 11,
   "metadata": {},
   "outputs": [
    {
     "name": "stdout",
     "output_type": "stream",
     "text": [
      "672 606 66\n"
     ]
    }
   ],
   "source": [
    "print(len(df),len(train_df),len(test_df))"
   ]
  },
  {
   "cell_type": "markdown",
   "metadata": {},
   "source": [
    "### Make sure, all categories have the same size\n",
    "Therefore we shorten the training corpus to the number of the smallest category in the corpus. This is important so that the results are not distorted by over- or under-representation of a category. "
   ]
  },
  {
   "cell_type": "code",
   "execution_count": 12,
   "metadata": {},
   "outputs": [],
   "source": [
    "val = train_df.relevancy.value_counts().min()\n",
    "train_df = train_df.groupby('relevancy').head(val)"
   ]
  },
  {
   "cell_type": "code",
   "execution_count": 13,
   "metadata": {},
   "outputs": [
    {
     "data": {
      "text/plain": [
       "<matplotlib.axes._subplots.AxesSubplot at 0x2269fb18ec8>"
      ]
     },
     "execution_count": 13,
     "metadata": {},
     "output_type": "execute_result"
    },
    {
     "data": {
      "image/png": "[encoded data removed]",
      "text/plain": [
       "<Figure size 432x288 with 1 Axes>"
      ]
     },
     "metadata": {
      "needs_background": "light"
     },
     "output_type": "display_data"
    }
   ],
   "source": [
    "train_df.relevancy.value_counts().plot(kind='bar')"
   ]
  },
  {
   "cell_type": "markdown",
   "metadata": {},
   "source": [
    "### Have a look at the training corpus\n",
    "Make sure there are enough articles of each category represented in the training corpus. The training corpus will be used to mesure the score of the classfication results by using the manual assigned information. "
   ]
  },
  {
   "cell_type": "code",
   "execution_count": 14,
   "metadata": {},
   "outputs": [
    {
     "data": {
      "text/plain": [
       "<matplotlib.axes._subplots.AxesSubplot at 0x226a44af988>"
      ]
     },
     "execution_count": 14,
     "metadata": {},
     "output_type": "execute_result"
    },
    {
     "data": {
      "image/png": "[encoded data removed]",
      "text/plain": [
       "<Figure size 432x288 with 1 Axes>"
      ]
     },
     "metadata": {
      "needs_background": "light"
     },
     "output_type": "display_data"
    }
   ],
   "source": [
    "test_df.relevancy.value_counts().plot(kind='bar')"
   ]
  },
  {
   "cell_type": "markdown",
   "metadata": {},
   "source": [
    "## Create topic models using your training corpus <a class=\"anchor\" id=\"8-bullet\"></a>\n",
    "\n",
    "The function \"train_lda\" trains the lda model. You can change the parameters like number of topics or chunksize, but also the change of the alpha and eta parameters can change the results a lot. For the text classification, a high number of topics is best suited. Of course, this can change from research question to research question, and it makes sense to train your models with a changing number of topics to find out which amount works best for your collection.\n",
    "\n",
    "The program is doing also several passes of the data since this is a small dataset, so we want the distributions to stabilize. \n",
    "\n",
    "It is also important to note that changing the parameters may lead to better results for some categories but worse results for others. If an overall good result is important, the parameters should be adjusted accordingly. On the other hand, if a good result is important for certain categories, you can simply ignore the result of those you do not need. The score is calculated after the model has been trained and the collection classified. To find out, which parameters work the best for your corpus, you simply have to try out a view times and see what happens when you change the parameters. Every collection is different.   \n"
   ]
  },
  {
   "cell_type": "code",
   "execution_count": 15,
   "metadata": {},
   "outputs": [],
   "source": [
    "dictionary = corpora.Dictionary(train_df['tokenized'])"
   ]
  },
  {
   "cell_type": "code",
   "execution_count": 16,
   "metadata": {},
   "outputs": [],
   "source": [
    "#Make a BOW for every document (Bag of words)\n",
    "def document_to_bow(df):\n",
    "    train_df['bow'] = list(map(lambda doc: dictionary.doc2bow(doc), train_df['tokenized']))\n",
    "    \n",
    "document_to_bow(train_df)"
   ]
  },
  {
   "cell_type": "code",
   "execution_count": 17,
   "metadata": {},
   "outputs": [],
   "source": [
    "corpus = train_df.bow"
   ]
  },
  {
   "cell_type": "code",
   "execution_count": 18,
   "metadata": {},
   "outputs": [],
   "source": [
    "def train_lda(data):\n",
    "    num_topics = 500\n",
    "    chunksize = 8000\n",
    "    t1 = time.time()\n",
    "    lda = LdaModel(corpus=corpus, num_topics=num_topics, id2word=dictionary,\n",
    "                    chunksize=chunksize, minimum_probability=0.0, passes=50, iterations=500, per_word_topics=True)\n",
    "    return dictionary,corpus,lda"
   ]
  },
  {
   "cell_type": "markdown",
   "metadata": {},
   "source": [
    "#### The training of the topic models takes a few minutes. But it is worh the waiting time"
   ]
  },
  {
   "cell_type": "code",
   "execution_count": 19,
   "metadata": {},
   "outputs": [
    {
     "name": "stdout",
     "output_type": "stream",
     "text": [
      "Wall time: 4min 57s\n"
     ]
    }
   ],
   "source": [
    "%%time\n",
    "dictionary,corpus,lda = train_lda(train_df)"
   ]
  },
  {
   "cell_type": "markdown",
   "metadata": {},
   "source": [
    "## Have a look at your topics <a class=\"anchor\" id=\"9-bullet\"></a>\n",
    "Inspect the outcome of your topics. You can see all your topics in changing the topicid to the number of topic you want to see. You can also adapt the number of tokens (topn) by changing the number. "
   ]
  },
  {
   "cell_type": "code",
   "execution_count": 20,
   "metadata": {},
   "outputs": [
    {
     "data": {
      "text/plain": [
       "[('chicago', 0.040289935),\n",
       " ('benützt', 0.040286444),\n",
       " ('newyork', 0.038677868),\n",
       " ('land', 0.023176862),\n",
       " ('stadt', 0.02015175),\n",
       " ('höhe', 0.0134389335),\n",
       " ('gebaut', 0.013438911),\n",
       " ('umgeben', 0.013438911),\n",
       " ('gewachsen', 0.013438911),\n",
       " ('wolkenkratz', 0.013438911),\n",
       " ('ganz', 0.013438911),\n",
       " ('seiten', 0.013438409),\n",
       " ('erd', 0.013438409),\n",
       " ('hinein', 0.013438409),\n",
       " ('geschwindigkeit', 0.013438403),\n",
       " ('gar', 0.013438353),\n",
       " ('paar', 0.01343753),\n",
       " ('zwanzig', 0.01343753),\n",
       " ('weit', 0.010789352),\n",
       " ('jahr', 0.00716202)]"
      ]
     },
     "execution_count": 20,
     "metadata": {},
     "output_type": "execute_result"
    }
   ],
   "source": [
    "lda.show_topic(topicid=0, topn=20)"
   ]
  },
  {
   "cell_type": "markdown",
   "metadata": {},
   "source": [
    "## Now it is time to create the feature vector <a class=\"anchor\" id=\"10-bullet\"></a>\n",
    "Freature vectore is an n-dimensional vector of numerical features that represent some object. Many algorithms in machine learning require a numerical representation of objects, since such representations facilitate processing and statistical analysis."
   ]
  },
  {
   "cell_type": "code",
   "execution_count": 21,
   "metadata": {},
   "outputs": [],
   "source": [
    "def document_to_lda_features(lda, document):\n",
    "    \"\"\" Transforms a bag of words document to features.\n",
    "    It returns the proportion of how much each topic was\n",
    "    present in the document.\n",
    "    \"\"\"\n",
    "    topic_importances = lda.get_document_topics(document, minimum_probability=0)\n",
    "    topic_importances = np.array(topic_importances)\n",
    "    return topic_importances[:,1]\n",
    "\n",
    "train_df['lda_features'] = list(map(lambda doc:\n",
    "                                      document_to_lda_features(lda, doc),\n",
    "                                      train_df.bow))"
   ]
  },
  {
   "cell_type": "code",
   "execution_count": 23,
   "metadata": {},
   "outputs": [],
   "source": [
    "ads_topic_distribution = train_df.loc[train_df.relevancy == 0, 'lda_features'].mean()\n",
    "news_topic_distribution = train_df.loc[train_df.relevancy == 1, 'lda_features'].mean()\n",
    "culture_topic_distribution = train_df.loc[train_df.relevancy == 2, 'lda_features'].mean()\n",
    "appeals_topic_distribution = train_df.loc[train_df.relevancy == 3, 'lda_features'].mean()\n",
    "crime_topic_distribution = train_df.loc[train_df.relevancy == 4, 'lda_features'].mean()\n",
    "finances_topic_distribution = train_df.loc[train_df.relevancy == 6, 'lda_features'].mean()\n",
    "statistic_topic_distribution = train_df.loc[train_df.relevancy == 7, 'lda_features'].mean()"
   ]
  },
  {
   "cell_type": "markdown",
   "metadata": {},
   "source": [
    "## Have a look at the top words for each category <a class=\"anchor\" id=\"11-bullet\"></a>"
   ]
  },
  {
   "cell_type": "code",
   "execution_count": 24,
   "metadata": {},
   "outputs": [],
   "source": [
    "def get_topic_top_words(lda_model, topic_id, nr_top_words=5):\n",
    "    \"\"\" Returns the top words for topic_id from lda_model.\n",
    "    \"\"\"\n",
    "    id_tuples = lda_model.get_topic_terms(topic_id, topn=nr_top_words)\n",
    "    word_ids = np.array(id_tuples)[:,0]\n",
    "    words = map(lambda id_: lda_model.id2word[id_], word_ids)\n",
    "    return words"
   ]
  },
  {
   "cell_type": "code",
   "execution_count": 25,
   "metadata": {},
   "outputs": [
    {
     "name": "stdout",
     "output_type": "stream",
     "text": [
      "Looking up top words from top topics from ads.\n",
      "For topic 23, the top words are: nr, tel, se, 33, xvii.\n",
      "For topic 195, the top words are: sucht, deutsch, warnung, kennt, ziehen.\n",
      "For topic 232, the top words are: gesuch, billig, nähere, ueberfahrt, bezahlen.\n",
      "For topic 382, the top words are: verkaufen, wegen, bez, billig, 17.\n",
      "For topic 462, the top words are: ondik, frau, wien, turanski, tür.\n",
      "\n",
      "Looking up top words from top topics from news.\n",
      "For topic 26, the top words are: folg, cholera, schiff, queenstown, deutschen.\n",
      "For topic 153, the top words are: italienisch, versenkt, unterseeboot, sonntag, nachrichten.\n",
      "For topic 196, the top words are: befanden, tagen, amerika, bord, schiff.\n",
      "For topic 491, the top words are: zentralstel, jüdisch, vorgeschicht, protektorat, worden.\n",
      "For topic 494, the top words are: fest, regierung, consul, luka, herzegowina.\n",
      "\n",
      "Looking up top words from top topics from culture.\n",
      "For topic 0, the top words are: chicago, benützt, newyork, land, stadt.\n",
      "For topic 96, the top words are: morgenblatt, heut, namen, theilnahm, budapest.\n",
      "For topic 313, the top words are: alt, vater, sebast, heut, sandler.\n",
      "For topic 476, the top words are: kam, hält, plattform, muß, zuge.\n",
      "For topic 484, the top words are: uhr, vortragssa, münchener, ½8, künstler.\n",
      "\n",
      "Looking up top words from top topics from appeals.\n",
      "For topic 49, the top words are: oesterreich, aufruf, zahl, china, verband.\n",
      "For topic 56, the top words are: juni, freien, rumänischen, press, vide.\n",
      "For topic 316, the top words are: 100, 10, 20, summ, auswei.\n",
      "For topic 356, the top words are: 10, firma, arbeit, 20, tischgesellschaft.\n",
      "For topic 443, the top words are: auskunftsstel, hamann, hoher, markt, wurd.\n",
      "\n",
      "Looking up top words from top topics from crime.\n",
      "For topic 220, the top words are: krakau, wurden, landsleut, trzebinia, auswanderungsagenten.\n",
      "For topic 278, the top words are: hollandamerikalini, fall, angehörigen, angestellten, mihali.\n",
      "For topic 335, the top words are: drabina, vier, cojocareanu, amerika, kronen.\n",
      "For topic 367, the top words are: gendarmen, wurd, groß, gendarm, stellungspflichtigen.\n",
      "For topic 385, the top words are: kopp, szeker, worden, wurd, wien.\n",
      "\n",
      "Looking up top words from top topics from finances.\n",
      "For topic 3, the top words are: amerika, oesterreich, amerikanischen, effekten, besitz.\n",
      "For topic 31, the top words are: millionen, zeigt, neue, jahr, vorjahr.\n",
      "For topic 48, the top words are: berlin, auswandererguthaben, guthaben, devisenrechtlich, veräußerung.\n",
      "For topic 192, the top words are: lire, millionen, kartel, gesellschaften, österreichisch.\n",
      "For topic 432, the top words are: börse, worden, nächsten, wurd, italienischen.\n",
      "\n",
      "Looking up top words from top topics from statistic.\n",
      "For topic 35, the top words are: 100, jahr, sprach, 1900, kroatienslawonien.\n",
      "For topic 53, the top words are: jahr, 1936, 1937, türkei, ausgewanderten.\n",
      "For topic 108, the top words are: jahr, staaten, vereinigten, prozent, 1910.\n",
      "For topic 187, the top words are: personen, insgesamt, jahr, ausgewandert, außereuropäischen.\n",
      "For topic 393, the top words are: zahl, rückgang, vorjahr, oesterreich, ersten.\n",
      "\n"
     ]
    }
   ],
   "source": [
    "for relevancy, distribution in zip(['ads', 'news', 'culture', 'appeals', 'crime', 'finances', 'statistic'], [ads_topic_distribution, news_topic_distribution, culture_topic_distribution, appeals_topic_distribution, crime_topic_distribution, finances_topic_distribution, statistic_topic_distribution]):\n",
    "    print(\"Looking up top words from top topics from {}.\".format(relevancy))\n",
    "    for x in sorted(np.argsort(distribution)[-5:]):\n",
    "        top_words = get_topic_top_words(lda, x)\n",
    "        print(\"For topic {}, the top words are: {}.\".format(x, \", \".join(top_words)))\n",
    "    print(\"\")"
   ]
  },
  {
   "cell_type": "markdown",
   "metadata": {},
   "source": [
    "## Classification and hyperparameter tuning <a class=\"anchor\" id=\"12-bullet\"></a>\n",
    "After transforming the documents into features, it is important to apply a few supervised classifiers to be able to predict what text belongs to which category."
   ]
  },
  {
   "cell_type": "code",
   "execution_count": 26,
   "metadata": {},
   "outputs": [],
   "source": [
    "def get_cross_validated_model(model, param_grid, X, y, nr_folds=6):\n",
    "    \"\"\" Trains a model by doing a grid search combined with cross validation.\n",
    "    args:\n",
    "        model: your model\n",
    "        param_grid: dict of parameter values for the grid search\n",
    "    returns:\n",
    "        Model trained on entire dataset with hyperparameters chosen from best results in the grid search.\n",
    "    \"\"\"\n",
    "    # train the model (since the evaluation is based on the logloss, we'll use neg_log_loss here)\n",
    "    grid_cv = GridSearchCV(model, param_grid=param_grid, scoring='neg_log_loss', cv=nr_folds, n_jobs=-1, verbose=True)\n",
    "    best_model = grid_cv.fit(X, y)\n",
    "    # show top models with parameter values\n",
    "    result_df = pd.DataFrame(best_model.cv_results_)\n",
    "    show_columns = ['mean_test_score', 'rank_test_score']\n",
    "    for col in result_df.columns:\n",
    "        if col.startswith('param_'):\n",
    "            show_columns.append(col)\n",
    "    display(result_df[show_columns].sort_values(by='rank_test_score').head())\n",
    "    return best_model"
   ]
  },
  {
   "cell_type": "code",
   "execution_count": 27,
   "metadata": {},
   "outputs": [],
   "source": [
    "# we first have to transform every entry\n",
    "X_train_lda = np.array(list(map(np.array, train_df.lda_features)))\n",
    "\n"
   ]
  },
  {
   "cell_type": "markdown",
   "metadata": {},
   "source": [
    "## Using the test corpus  <a class=\"anchor\" id=\"13-bullet\"></a>\n",
    "First, have a look at your test corpus"
   ]
  },
  {
   "cell_type": "code",
   "execution_count": 28,
   "metadata": {},
   "outputs": [
    {
     "data": {
      "text/html": [
       "<div>\n",
       "<style scoped>\n",
       "    .dataframe tbody tr th:only-of-type {\n",
       "        vertical-align: middle;\n",
       "    }\n",
       "\n",
       "    .dataframe tbody tr th {\n",
       "        vertical-align: top;\n",
       "    }\n",
       "\n",
       "    .dataframe thead th {\n",
       "        text-align: right;\n",
       "    }\n",
       "</style>\n",
       "<table border=\"1\" class=\"dataframe\">\n",
       "  <thead>\n",
       "    <tr style=\"text-align: right;\">\n",
       "      <th></th>\n",
       "      <th>id</th>\n",
       "      <th>language</th>\n",
       "      <th>date</th>\n",
       "      <th>newspaper_id</th>\n",
       "      <th>iiif_url</th>\n",
       "      <th>relevancy</th>\n",
       "      <th>text</th>\n",
       "      <th>tokenized</th>\n",
       "    </tr>\n",
       "  </thead>\n",
       "  <tbody>\n",
       "    <tr>\n",
       "      <td>0</td>\n",
       "      <td>arbeiter_zeitung_aze19130716_article_270</td>\n",
       "      <td>de</td>\n",
       "      <td>1913-07-16T00:00:00Z</td>\n",
       "      <td>arbeiter_zeitung</td>\n",
       "      <td>https://platform.newseye.eu/iiif/arbeiter_zeit...</td>\n",
       "      <td>6</td>\n",
       "      <td>Volkswirtschaft.\\nDas Kriegsministerium gegen ...</td>\n",
       "      <td>[volkswirtschaft, kriegsministerium, handelsmi...</td>\n",
       "    </tr>\n",
       "    <tr>\n",
       "      <td>1</td>\n",
       "      <td>illustrierte_kronen_zeitung_krz19390215_articl...</td>\n",
       "      <td>de</td>\n",
       "      <td>1939-02-15T00:00:00Z</td>\n",
       "      <td>illustrierte_kronen_zeitung</td>\n",
       "      <td>https://platform.newseye.eu/iiif/illustrierte_...</td>\n",
       "      <td>4</td>\n",
       "      <td>In der Anklageschrift wurde folgender Sach\\nve...</td>\n",
       "      <td>[anklageschrift, wurd, folgend, sach, verhalt,...</td>\n",
       "    </tr>\n",
       "    <tr>\n",
       "      <td>2</td>\n",
       "      <td>arbeiter_zeitung_aze19160216_article_146</td>\n",
       "      <td>de</td>\n",
       "      <td>1916-02-16T00:00:00Z</td>\n",
       "      <td>arbeiter_zeitung</td>\n",
       "      <td>https://platform.newseye.eu/iiif/arbeiter_zeit...</td>\n",
       "      <td>7</td>\n",
       "      <td>Dann aber ist zu beachten, daß das österreichi...</td>\n",
       "      <td>[beachten, österreichischungarisch, gemeinsam,...</td>\n",
       "    </tr>\n",
       "    <tr>\n",
       "      <td>3</td>\n",
       "      <td>illustrierte_kronen_zeitung_krz19131023_articl...</td>\n",
       "      <td>de</td>\n",
       "      <td>1913-10-23T00:00:00Z</td>\n",
       "      <td>illustrierte_kronen_zeitung</td>\n",
       "      <td>https://platform.newseye.eu/iiif/illustrierte_...</td>\n",
       "      <td>4</td>\n",
       "      <td>Verhaftungen.\\nInnsbruck, 22. Oktober. Gestern...</td>\n",
       "      <td>[verhaftungen, innsbruck, 22, oktob, gestern, ...</td>\n",
       "    </tr>\n",
       "    <tr>\n",
       "      <td>4</td>\n",
       "      <td>arbeiter_zeitung_aze19160420_article_38</td>\n",
       "      <td>de</td>\n",
       "      <td>1916-04-20T00:00:00Z</td>\n",
       "      <td>arbeiter_zeitung</td>\n",
       "      <td>https://platform.newseye.eu/iiif/arbeiter_zeit...</td>\n",
       "      <td>7</td>\n",
       "      <td>Während ansonsten die Güterkonzentration und\\n...</td>\n",
       "      <td>[ansonsten, güterkonzentr, güterschlachten, un...</td>\n",
       "    </tr>\n",
       "  </tbody>\n",
       "</table>\n",
       "</div>"
      ],
      "text/plain": [
       "                                                  id language  \\\n",
       "0           arbeiter_zeitung_aze19130716_article_270       de   \n",
       "1  illustrierte_kronen_zeitung_krz19390215_articl...       de   \n",
       "2           arbeiter_zeitung_aze19160216_article_146       de   \n",
       "3  illustrierte_kronen_zeitung_krz19131023_articl...       de   \n",
       "4            arbeiter_zeitung_aze19160420_article_38       de   \n",
       "\n",
       "                   date                 newspaper_id  \\\n",
       "0  1913-07-16T00:00:00Z             arbeiter_zeitung   \n",
       "1  1939-02-15T00:00:00Z  illustrierte_kronen_zeitung   \n",
       "2  1916-02-16T00:00:00Z             arbeiter_zeitung   \n",
       "3  1913-10-23T00:00:00Z  illustrierte_kronen_zeitung   \n",
       "4  1916-04-20T00:00:00Z             arbeiter_zeitung   \n",
       "\n",
       "                                            iiif_url  relevancy  \\\n",
       "0  https://platform.newseye.eu/iiif/arbeiter_zeit...          6   \n",
       "1  https://platform.newseye.eu/iiif/illustrierte_...          4   \n",
       "2  https://platform.newseye.eu/iiif/arbeiter_zeit...          7   \n",
       "3  https://platform.newseye.eu/iiif/illustrierte_...          4   \n",
       "4  https://platform.newseye.eu/iiif/arbeiter_zeit...          7   \n",
       "\n",
       "                                                text  \\\n",
       "0  Volkswirtschaft.\\nDas Kriegsministerium gegen ...   \n",
       "1  In der Anklageschrift wurde folgender Sach\\nve...   \n",
       "2  Dann aber ist zu beachten, daß das österreichi...   \n",
       "3  Verhaftungen.\\nInnsbruck, 22. Oktober. Gestern...   \n",
       "4  Während ansonsten die Güterkonzentration und\\n...   \n",
       "\n",
       "                                           tokenized  \n",
       "0  [volkswirtschaft, kriegsministerium, handelsmi...  \n",
       "1  [anklageschrift, wurd, folgend, sach, verhalt,...  \n",
       "2  [beachten, österreichischungarisch, gemeinsam,...  \n",
       "3  [verhaftungen, innsbruck, 22, oktob, gestern, ...  \n",
       "4  [ansonsten, güterkonzentr, güterschlachten, un...  "
      ]
     },
     "execution_count": 28,
     "metadata": {},
     "output_type": "execute_result"
    }
   ],
   "source": [
    "test_df.head()"
   ]
  },
  {
   "cell_type": "markdown",
   "metadata": {},
   "source": [
    "#### Pre-process your test corpus using the same function than for the train corpus"
   ]
  },
  {
   "cell_type": "code",
   "execution_count": 29,
   "metadata": {},
   "outputs": [],
   "source": [
    "test_df['tokenized'] = test_df['text'].apply(apply_all) "
   ]
  },
  {
   "cell_type": "markdown",
   "metadata": {},
   "source": [
    "#### Make a bag of words for every document"
   ]
  },
  {
   "cell_type": "code",
   "execution_count": 30,
   "metadata": {},
   "outputs": [],
   "source": [
    "def document_to_bow(df):\n",
    "    df['bow'] = list(map(lambda doc: dictionary.doc2bow(doc), test_df['tokenized']))\n",
    "    \n",
    "document_to_bow(test_df)"
   ]
  },
  {
   "cell_type": "markdown",
   "metadata": {},
   "source": [
    "#### Get feature vectores for your test corpus"
   ]
  },
  {
   "cell_type": "code",
   "execution_count": 31,
   "metadata": {},
   "outputs": [],
   "source": [
    "test_df['lda_features'] = list(map(lambda doc:\n",
    "                                     document_to_lda_features(lda, doc),\n",
    "                                     test_df.bow))"
   ]
  },
  {
   "cell_type": "code",
   "execution_count": 32,
   "metadata": {},
   "outputs": [],
   "source": [
    "X_test_lda = np.array(list(map(np.array, test_df.lda_features)))"
   ]
  },
  {
   "cell_type": "code",
   "execution_count": 33,
   "metadata": {},
   "outputs": [],
   "source": [
    "# store all models in a dictionary\n",
    "models = dict()"
   ]
  },
  {
   "cell_type": "markdown",
   "metadata": {},
   "source": [
    "## Logistic Regression <a class=\"anchor\" id=\"14-bullet\"></a>\n",
    "Logistic Regression is a Machine Learning classification algorithm that is used to predict the probability of a categorical dependent variable. In logistic regression, the dependent variable is a binary variable that contains data coded as 1 (yes, success, etc.) or 0 (no, failure, etc.). In other words, the logistic regression model predicts P(Y=1) as a function of X."
   ]
  },
  {
   "cell_type": "code",
   "execution_count": 34,
   "metadata": {},
   "outputs": [
    {
     "name": "stdout",
     "output_type": "stream",
     "text": [
      "Fitting 6 folds for each of 2 candidates, totalling 12 fits\n"
     ]
    },
    {
     "name": "stderr",
     "output_type": "stream",
     "text": [
      "[Parallel(n_jobs=-1)]: Using backend LokyBackend with 8 concurrent workers.\n",
      "[Parallel(n_jobs=-1)]: Done  10 out of  12 | elapsed:    3.9s remaining:    0.7s\n",
      "[Parallel(n_jobs=-1)]: Done  12 out of  12 | elapsed:    4.0s finished\n"
     ]
    },
    {
     "data": {
      "text/html": [
       "<div>\n",
       "<style scoped>\n",
       "    .dataframe tbody tr th:only-of-type {\n",
       "        vertical-align: middle;\n",
       "    }\n",
       "\n",
       "    .dataframe tbody tr th {\n",
       "        vertical-align: top;\n",
       "    }\n",
       "\n",
       "    .dataframe thead th {\n",
       "        text-align: right;\n",
       "    }\n",
       "</style>\n",
       "<table border=\"1\" class=\"dataframe\">\n",
       "  <thead>\n",
       "    <tr style=\"text-align: right;\">\n",
       "      <th></th>\n",
       "      <th>mean_test_score</th>\n",
       "      <th>rank_test_score</th>\n",
       "      <th>param_penalty</th>\n",
       "    </tr>\n",
       "  </thead>\n",
       "  <tbody>\n",
       "    <tr>\n",
       "      <td>1</td>\n",
       "      <td>-1.715419</td>\n",
       "      <td>1</td>\n",
       "      <td>l2</td>\n",
       "    </tr>\n",
       "    <tr>\n",
       "      <td>0</td>\n",
       "      <td>NaN</td>\n",
       "      <td>2</td>\n",
       "      <td>l1</td>\n",
       "    </tr>\n",
       "  </tbody>\n",
       "</table>\n",
       "</div>"
      ],
      "text/plain": [
       "   mean_test_score  rank_test_score param_penalty\n",
       "1        -1.715419                1            l2\n",
       "0              NaN                2            l1"
      ]
     },
     "metadata": {},
     "output_type": "display_data"
    }
   ],
   "source": [
    "\n",
    "lr = LogisticRegression()\n",
    "\n",
    "param_grid = {'penalty': ['l1', 'l2']}\n",
    "\n",
    "best_lr_lda = get_cross_validated_model(lr, param_grid, X_train_lda, train_df.relevancy)\n",
    "\n",
    "models['best_lr_lda'] = best_lr_lda"
   ]
  },
  {
   "cell_type": "markdown",
   "metadata": {},
   "source": [
    "## Now it is time to make the classifications  <a class=\"anchor\" id=\"15-bullet\"></a>\n",
    "First we get a data frame with the result for each category. The category with the highest number is the category to which the article is assigned. \n"
   ]
  },
  {
   "cell_type": "code",
   "execution_count": 35,
   "metadata": {},
   "outputs": [],
   "source": [
    "submission_predictions = best_lr_lda.predict_proba(X_test_lda)"
   ]
  },
  {
   "cell_type": "code",
   "execution_count": 36,
   "metadata": {},
   "outputs": [],
   "source": [
    "result= np.append(test_df.relevancy.values.reshape(-1,1), submission_predictions, axis=1)"
   ]
  },
  {
   "cell_type": "code",
   "execution_count": 37,
   "metadata": {},
   "outputs": [],
   "source": [
    "submission_df = pd.DataFrame(data=result, columns=['relevancy', 'ads', 'news', 'culture', 'appeals', 'crime', 'finance', 'statistic'])"
   ]
  },
  {
   "cell_type": "markdown",
   "metadata": {},
   "source": [
    "#### Have a look if everything worked correctly\n",
    "The first article contains the manual annotation (4.0), which means this article belongs to the category of crime. As you can see, the highest number for this row is in the column of crime. So this article has been classified correctly. "
   ]
  },
  {
   "cell_type": "code",
   "execution_count": 38,
   "metadata": {},
   "outputs": [
    {
     "data": {
      "text/html": [
       "<div>\n",
       "<style scoped>\n",
       "    .dataframe tbody tr th:only-of-type {\n",
       "        vertical-align: middle;\n",
       "    }\n",
       "\n",
       "    .dataframe tbody tr th {\n",
       "        vertical-align: top;\n",
       "    }\n",
       "\n",
       "    .dataframe thead th {\n",
       "        text-align: right;\n",
       "    }\n",
       "</style>\n",
       "<table border=\"1\" class=\"dataframe\">\n",
       "  <thead>\n",
       "    <tr style=\"text-align: right;\">\n",
       "      <th></th>\n",
       "      <th>relevancy</th>\n",
       "      <th>ads</th>\n",
       "      <th>news</th>\n",
       "      <th>culture</th>\n",
       "      <th>appeals</th>\n",
       "      <th>crime</th>\n",
       "      <th>finance</th>\n",
       "      <th>statistic</th>\n",
       "    </tr>\n",
       "  </thead>\n",
       "  <tbody>\n",
       "    <tr>\n",
       "      <td>0</td>\n",
       "      <td>6.0</td>\n",
       "      <td>0.132401</td>\n",
       "      <td>0.159716</td>\n",
       "      <td>0.126434</td>\n",
       "      <td>0.125301</td>\n",
       "      <td>0.169356</td>\n",
       "      <td>0.138950</td>\n",
       "      <td>0.147843</td>\n",
       "    </tr>\n",
       "    <tr>\n",
       "      <td>1</td>\n",
       "      <td>4.0</td>\n",
       "      <td>0.115268</td>\n",
       "      <td>0.124868</td>\n",
       "      <td>0.131387</td>\n",
       "      <td>0.096907</td>\n",
       "      <td>0.292242</td>\n",
       "      <td>0.117336</td>\n",
       "      <td>0.121992</td>\n",
       "    </tr>\n",
       "    <tr>\n",
       "      <td>2</td>\n",
       "      <td>7.0</td>\n",
       "      <td>0.134686</td>\n",
       "      <td>0.131620</td>\n",
       "      <td>0.147998</td>\n",
       "      <td>0.106270</td>\n",
       "      <td>0.154071</td>\n",
       "      <td>0.148608</td>\n",
       "      <td>0.176747</td>\n",
       "    </tr>\n",
       "    <tr>\n",
       "      <td>3</td>\n",
       "      <td>4.0</td>\n",
       "      <td>0.132042</td>\n",
       "      <td>0.125159</td>\n",
       "      <td>0.118379</td>\n",
       "      <td>0.100946</td>\n",
       "      <td>0.284128</td>\n",
       "      <td>0.116008</td>\n",
       "      <td>0.123338</td>\n",
       "    </tr>\n",
       "    <tr>\n",
       "      <td>4</td>\n",
       "      <td>7.0</td>\n",
       "      <td>0.142830</td>\n",
       "      <td>0.148997</td>\n",
       "      <td>0.157938</td>\n",
       "      <td>0.102931</td>\n",
       "      <td>0.151301</td>\n",
       "      <td>0.139203</td>\n",
       "      <td>0.156801</td>\n",
       "    </tr>\n",
       "  </tbody>\n",
       "</table>\n",
       "</div>"
      ],
      "text/plain": [
       "   relevancy       ads      news   culture   appeals     crime   finance  \\\n",
       "0        6.0  0.132401  0.159716  0.126434  0.125301  0.169356  0.138950   \n",
       "1        4.0  0.115268  0.124868  0.131387  0.096907  0.292242  0.117336   \n",
       "2        7.0  0.134686  0.131620  0.147998  0.106270  0.154071  0.148608   \n",
       "3        4.0  0.132042  0.125159  0.118379  0.100946  0.284128  0.116008   \n",
       "4        7.0  0.142830  0.148997  0.157938  0.102931  0.151301  0.139203   \n",
       "\n",
       "   statistic  \n",
       "0   0.147843  \n",
       "1   0.121992  \n",
       "2   0.176747  \n",
       "3   0.123338  \n",
       "4   0.156801  "
      ]
     },
     "execution_count": 38,
     "metadata": {},
     "output_type": "execute_result"
    }
   ],
   "source": [
    "submission_df.head(5)"
   ]
  },
  {
   "cell_type": "markdown",
   "metadata": {},
   "source": [
    "## Calculate the score for each category as well as the overall score  <a class=\"anchor\" id=\"16-bullet\"></a>\n",
    "Repeat the calculation (topic models need sometimes several rounds) or adapt the code until you get a higher score than 80 percent. If you get a higher score than 80 percent, you can continue with your whole dataset."
   ]
  },
  {
   "cell_type": "code",
   "execution_count": 39,
   "metadata": {},
   "outputs": [],
   "source": [
    "max_num = submission_df.loc[:, submission_df.columns != 'relevancy'].max(axis=1)"
   ]
  },
  {
   "cell_type": "code",
   "execution_count": 40,
   "metadata": {
    "scrolled": false
   },
   "outputs": [
    {
     "name": "stdout",
     "output_type": "stream",
     "text": [
      "Your score for ads is: 0.8\n",
      "Your score for news is: 0.7333333333333333\n",
      "Your score for culture is: 0.6923076923076923\n",
      "Your score for appeals is: 1.0\n",
      "Your score for crime is: 0.6153846153846154\n",
      "Your score for finances is: 1.0\n",
      "Your score for statistic is: 1.0\n",
      "Your overall score is 0.8344322344322345\n"
     ]
    }
   ],
   "source": [
    "\n",
    "df_ads = submission_df[['ads', 'relevancy']][submission_df['ads'].isin(max_num)]\n",
    "\n",
    "ads_list = []\n",
    "for key, value in df_ads.items(): \n",
    "    for rel in value: \n",
    "        if len(str(rel)) < 4:\n",
    "            ads_list.append(rel)\n",
    "\n",
    "ads_right = []\n",
    "ads_wrong =[]\n",
    "for num in ads_list: \n",
    "    if num == 0.0: \n",
    "        ads_right.append(num)\n",
    "    else: \n",
    "        ads_wrong.append(num)\n",
    "all_ = len(ads_right) + len(ads_wrong)\n",
    "ads_score = len(ads_right) / all_\n",
    "print(f\"Your score for ads is: {ads_score}\")\n",
    "\n",
    "df_news = submission_df[['news', 'relevancy']][submission_df['news'].isin(max_num)]\n",
    "\n",
    "\n",
    "news_list = []\n",
    "for key, value in df_news.items(): \n",
    "    for rel in value: \n",
    "        if len(str(rel)) < 4:\n",
    "            news_list.append(rel)\n",
    "\n",
    "news_right = []\n",
    "news_wrong =[]\n",
    "for num in news_list: \n",
    "    if num == 1.0: \n",
    "        news_right.append(num)\n",
    "    else: \n",
    "        news_wrong.append(num)\n",
    "all_ = len(news_right) + len(news_wrong)\n",
    "news_score = len(news_right) / all_\n",
    "print(f\"Your score for news is: {news_score}\")\n",
    "\n",
    "    \n",
    "df_culture = submission_df[['culture', 'relevancy']][submission_df['culture'].isin(max_num)]\n",
    "\n",
    "culture_list = []\n",
    "for key, value in df_culture.items(): \n",
    "    for rel in value: \n",
    "        if len(str(rel)) < 4:\n",
    "            culture_list.append(rel)\n",
    "\n",
    "culture_right = []\n",
    "culture_wrong =[]\n",
    "for num in culture_list: \n",
    "    if num == 2.0: \n",
    "        culture_right.append(num)\n",
    "    else: \n",
    "        culture_wrong.append(num)\n",
    "all_ = len(culture_right) + len(culture_wrong)\n",
    "culture_score = len(culture_right) / all_\n",
    "print(f\"Your score for culture is: {culture_score}\")\n",
    "\n",
    "df_appeals = submission_df[['appeals', 'relevancy']][submission_df['appeals'].isin(max_num)]\n",
    "\n",
    "appeals_list = []\n",
    "for key, value in df_appeals.items(): \n",
    "    for rel in value: \n",
    "        if len(str(rel)) < 4:\n",
    "            appeals_list.append(rel)\n",
    "\n",
    "appeals_right = []\n",
    "appeals_wrong =[]\n",
    "for num in appeals_list: \n",
    "    if num == 3.0: \n",
    "        appeals_right.append(num)\n",
    "    else: \n",
    "        appeals_wrong.append(num)\n",
    "all_ = len(appeals_right) + len(appeals_wrong)\n",
    "appeals_score = len(appeals_right) / all_\n",
    "print(f\"Your score for appeals is: {appeals_score}\")\n",
    "\n",
    "df_crime = submission_df[['crime', 'relevancy']][submission_df['crime'].isin(max_num)]\n",
    "\n",
    "crime_list = []\n",
    "for key, value in df_crime.items(): \n",
    "    for rel in value: \n",
    "        if len(str(rel)) < 4:\n",
    "            crime_list.append(rel)\n",
    "\n",
    "crime_right = []\n",
    "crime_wrong =[]\n",
    "for num in crime_list: \n",
    "    if num == 4.0: \n",
    "        crime_right.append(num)\n",
    "    else: \n",
    "        crime_wrong.append(num)\n",
    "all_ = len(crime_right) + len(crime_wrong)\n",
    "crime_score = len(crime_right) / all_\n",
    "print(f\"Your score for crime is: {crime_score}\")\n",
    "\n",
    "\n",
    "df_finances = submission_df[['finance', 'relevancy']][submission_df['finance'].isin(max_num)]\n",
    "\n",
    "finances_list = []\n",
    "for key, value in df_finances.items(): \n",
    "    for rel in value: \n",
    "        if len(str(rel)) < 4:\n",
    "            finances_list.append(rel)\n",
    "\n",
    "finances_right = []\n",
    "finances_wrong =[]\n",
    "for num in finances_list: \n",
    "    if num == 6.0: \n",
    "        finances_right.append(num)\n",
    "    else: \n",
    "        finances_wrong.append(num)\n",
    "all_ = len(finances_right) + len(finances_wrong)\n",
    "finance_score = len(finances_right) / all_\n",
    "print(f\"Your score for finances is: {finance_score}\")\n",
    "   \n",
    "df_statistic = submission_df[['statistic', 'relevancy']][submission_df['statistic'].isin(max_num)]\n",
    "\n",
    "statistic_list = []\n",
    "for key, value in df_statistic.items(): \n",
    "    for rel in value: \n",
    "        if len(str(rel)) < 4:\n",
    "            statistic_list.append(rel)\n",
    "\n",
    "statistic_right = []\n",
    "statistic_wrong =[]\n",
    "for num in statistic_list: \n",
    "    if num == 7.0: \n",
    "        statistic_right.append(num)\n",
    "    else: \n",
    "        statistic_wrong.append(num)\n",
    "all_ = len(statistic_right) + len(statistic_wrong)\n",
    "statistic_score = len(statistic_right) / all_\n",
    "print(f\"Your score for statistic is: {statistic_score}\")\n",
    "overall_score = (ads_score + news_score + culture_score + appeals_score + crime_score + finance_score + statistic_score) / 7\n",
    "\n",
    "print(f\"Your overall score is {overall_score}\")"
   ]
  },
  {
   "cell_type": "markdown",
   "metadata": {},
   "source": [
    "# If your overall score is higher than 80 percent, you can start to use your whole collection  <a class=\"anchor\" id=\"17-bullet\"></a>\n",
    "\n",
    "Start with importing your whole collection. Import the same collection twice for the futher processing. \n",
    "\n",
    "Note: If you are mainly interested in one of the catecories, it makes sense to choose a model with a high score for that category. If you want a good overview of the distribution of the categories, a overall good score is more important. "
   ]
  },
  {
   "cell_type": "code",
   "execution_count": 41,
   "metadata": {},
   "outputs": [],
   "source": [
    "df_all = pd.read_csv('export_auswanderer_01_07_2020_13_38.csv', usecols = ['id','language','date','newspaper_id','iiif_url','text'])\n",
    "df_all_2 = pd.read_csv('export_auswanderer_01_07_2020_13_38.csv', usecols = ['id','language','date','newspaper_id','iiif_url','text'])\n"
   ]
  },
  {
   "cell_type": "markdown",
   "metadata": {},
   "source": [
    "### Have a look at your data"
   ]
  },
  {
   "cell_type": "code",
   "execution_count": 42,
   "metadata": {},
   "outputs": [
    {
     "data": {
      "text/html": [
       "<div>\n",
       "<style scoped>\n",
       "    .dataframe tbody tr th:only-of-type {\n",
       "        vertical-align: middle;\n",
       "    }\n",
       "\n",
       "    .dataframe tbody tr th {\n",
       "        vertical-align: top;\n",
       "    }\n",
       "\n",
       "    .dataframe thead th {\n",
       "        text-align: right;\n",
       "    }\n",
       "</style>\n",
       "<table border=\"1\" class=\"dataframe\">\n",
       "  <thead>\n",
       "    <tr style=\"text-align: right;\">\n",
       "      <th></th>\n",
       "      <th>id</th>\n",
       "      <th>language</th>\n",
       "      <th>date</th>\n",
       "      <th>newspaper_id</th>\n",
       "      <th>iiif_url</th>\n",
       "      <th>text</th>\n",
       "    </tr>\n",
       "  </thead>\n",
       "  <tbody>\n",
       "    <tr>\n",
       "      <td>0</td>\n",
       "      <td>illustrierte_kronen_zeitung_krz19131101_articl...</td>\n",
       "      <td>de</td>\n",
       "      <td>1913-11-01T00:00:00Z</td>\n",
       "      <td>illustrierte_kronen_zeitung</td>\n",
       "      <td>https://platform.newseye.eu/iiif/illustrierte_...</td>\n",
       "      <td>(Angehaltene Auswanderer.) In Prag wurden\\nges...</td>\n",
       "    </tr>\n",
       "    <tr>\n",
       "      <td>1</td>\n",
       "      <td>illustrierte_kronen_zeitung_krz19331108_articl...</td>\n",
       "      <td>de</td>\n",
       "      <td>1933-11-08T00:00:00Z</td>\n",
       "      <td>illustrierte_kronen_zeitung</td>\n",
       "      <td>https://platform.newseye.eu/iiif/illustrierte_...</td>\n",
       "      <td>gestern eine Festsitzung statt. Direktor\\nSchw...</td>\n",
       "    </tr>\n",
       "    <tr>\n",
       "      <td>2</td>\n",
       "      <td>arbeiter_zeitung_aze19131231_article_196</td>\n",
       "      <td>de</td>\n",
       "      <td>1913-12-31T00:00:00Z</td>\n",
       "      <td>arbeiter_zeitung</td>\n",
       "      <td>https://platform.newseye.eu/iiif/arbeiter_zeit...</td>\n",
       "      <td>Der Portier eines Leopoldstädter Hotels gab al...</td>\n",
       "    </tr>\n",
       "    <tr>\n",
       "      <td>3</td>\n",
       "      <td>illustrierte_kronen_zeitung_krz19131129_articl...</td>\n",
       "      <td>de</td>\n",
       "      <td>1913-11-29T00:00:00Z</td>\n",
       "      <td>illustrierte_kronen_zeitung</td>\n",
       "      <td>https://platform.newseye.eu/iiif/illustrierte_...</td>\n",
       "      <td>In Krakau befinden sich noch etwa fünfzig Ausw...</td>\n",
       "    </tr>\n",
       "    <tr>\n",
       "      <td>4</td>\n",
       "      <td>illustrierte_kronen_zeitung_krz19390610_articl...</td>\n",
       "      <td>de</td>\n",
       "      <td>1939-06-10T00:00:00Z</td>\n",
       "      <td>illustrierte_kronen_zeitung</td>\n",
       "      <td>https://platform.newseye.eu/iiif/illustrierte_...</td>\n",
       "      <td>Beförderung\\nvon Auswanderer- Umzugsgütern\\nis...</td>\n",
       "    </tr>\n",
       "  </tbody>\n",
       "</table>\n",
       "</div>"
      ],
      "text/plain": [
       "                                                  id language  \\\n",
       "0  illustrierte_kronen_zeitung_krz19131101_articl...       de   \n",
       "1  illustrierte_kronen_zeitung_krz19331108_articl...       de   \n",
       "2           arbeiter_zeitung_aze19131231_article_196       de   \n",
       "3  illustrierte_kronen_zeitung_krz19131129_articl...       de   \n",
       "4  illustrierte_kronen_zeitung_krz19390610_articl...       de   \n",
       "\n",
       "                   date                 newspaper_id  \\\n",
       "0  1913-11-01T00:00:00Z  illustrierte_kronen_zeitung   \n",
       "1  1933-11-08T00:00:00Z  illustrierte_kronen_zeitung   \n",
       "2  1913-12-31T00:00:00Z             arbeiter_zeitung   \n",
       "3  1913-11-29T00:00:00Z  illustrierte_kronen_zeitung   \n",
       "4  1939-06-10T00:00:00Z  illustrierte_kronen_zeitung   \n",
       "\n",
       "                                            iiif_url  \\\n",
       "0  https://platform.newseye.eu/iiif/illustrierte_...   \n",
       "1  https://platform.newseye.eu/iiif/illustrierte_...   \n",
       "2  https://platform.newseye.eu/iiif/arbeiter_zeit...   \n",
       "3  https://platform.newseye.eu/iiif/illustrierte_...   \n",
       "4  https://platform.newseye.eu/iiif/illustrierte_...   \n",
       "\n",
       "                                                text  \n",
       "0  (Angehaltene Auswanderer.) In Prag wurden\\nges...  \n",
       "1  gestern eine Festsitzung statt. Direktor\\nSchw...  \n",
       "2  Der Portier eines Leopoldstädter Hotels gab al...  \n",
       "3  In Krakau befinden sich noch etwa fünfzig Ausw...  \n",
       "4  Beförderung\\nvon Auswanderer- Umzugsgütern\\nis...  "
      ]
     },
     "execution_count": 42,
     "metadata": {},
     "output_type": "execute_result"
    }
   ],
   "source": [
    "df_all.head()"
   ]
  },
  {
   "cell_type": "code",
   "execution_count": 43,
   "metadata": {},
   "outputs": [
    {
     "data": {
      "text/html": [
       "<div>\n",
       "<style scoped>\n",
       "    .dataframe tbody tr th:only-of-type {\n",
       "        vertical-align: middle;\n",
       "    }\n",
       "\n",
       "    .dataframe tbody tr th {\n",
       "        vertical-align: top;\n",
       "    }\n",
       "\n",
       "    .dataframe thead th {\n",
       "        text-align: right;\n",
       "    }\n",
       "</style>\n",
       "<table border=\"1\" class=\"dataframe\">\n",
       "  <thead>\n",
       "    <tr style=\"text-align: right;\">\n",
       "      <th></th>\n",
       "      <th>id</th>\n",
       "      <th>language</th>\n",
       "      <th>date</th>\n",
       "      <th>newspaper_id</th>\n",
       "      <th>iiif_url</th>\n",
       "      <th>text</th>\n",
       "    </tr>\n",
       "  </thead>\n",
       "  <tbody>\n",
       "    <tr>\n",
       "      <td>0</td>\n",
       "      <td>neue_freie_presse_nfp19380216_article_2354</td>\n",
       "      <td>de</td>\n",
       "      <td>1938-02-16T00:00:00Z</td>\n",
       "      <td>neue_freie_presse</td>\n",
       "      <td>https://platform.newseye.eu/iiif/neue_freie_pr...</td>\n",
       "      <td>m November schreibt der Auswanderer einen Brie...</td>\n",
       "    </tr>\n",
       "    <tr>\n",
       "      <td>1</td>\n",
       "      <td>neue_freie_presse_nfp18690228_article_212</td>\n",
       "      <td>de</td>\n",
       "      <td>1869-02-28T00:00:00Z</td>\n",
       "      <td>neue_freie_presse</td>\n",
       "      <td>https://platform.newseye.eu/iiif/neue_freie_pr...</td>\n",
       "      <td>[Auswanderer.] Vorgestern Abends sind 21 Perso...</td>\n",
       "    </tr>\n",
       "    <tr>\n",
       "      <td>2</td>\n",
       "      <td>neue_freie_presse_nfp19390110_article_2106</td>\n",
       "      <td>de</td>\n",
       "      <td>1939-01-10T00:00:00Z</td>\n",
       "      <td>neue_freie_presse</td>\n",
       "      <td>https://platform.newseye.eu/iiif/neue_freie_pr...</td>\n",
       "      <td>Möbel aller Art,\\numarbeiten, modernisieren, a...</td>\n",
       "    </tr>\n",
       "    <tr>\n",
       "      <td>3</td>\n",
       "      <td>arbeiter_zeitung_aze19000707_article_162</td>\n",
       "      <td>de</td>\n",
       "      <td>1900-07-07T00:00:00Z</td>\n",
       "      <td>arbeiter_zeitung</td>\n",
       "      <td>https://platform.newseye.eu/iiif/arbeiter_zeit...</td>\n",
       "      <td>Die rumänischen Auswanderer.\\nSchwer und Genos...</td>\n",
       "    </tr>\n",
       "    <tr>\n",
       "      <td>4</td>\n",
       "      <td>innsbrucker_nachrichten_ibn19211126_article_279</td>\n",
       "      <td>de</td>\n",
       "      <td>1921-11-26T00:00:00Z</td>\n",
       "      <td>innsbrucker_nachrichten</td>\n",
       "      <td>https://platform.newseye.eu/iiif/innsbrucker_n...</td>\n",
       "      <td>Vorarlberger Auswanderer. Wie uns aus Dorn\\nbi...</td>\n",
       "    </tr>\n",
       "  </tbody>\n",
       "</table>\n",
       "</div>"
      ],
      "text/plain": [
       "                                                id language  \\\n",
       "0       neue_freie_presse_nfp19380216_article_2354       de   \n",
       "1        neue_freie_presse_nfp18690228_article_212       de   \n",
       "2       neue_freie_presse_nfp19390110_article_2106       de   \n",
       "3         arbeiter_zeitung_aze19000707_article_162       de   \n",
       "4  innsbrucker_nachrichten_ibn19211126_article_279       de   \n",
       "\n",
       "                   date             newspaper_id  \\\n",
       "0  1938-02-16T00:00:00Z        neue_freie_presse   \n",
       "1  1869-02-28T00:00:00Z        neue_freie_presse   \n",
       "2  1939-01-10T00:00:00Z        neue_freie_presse   \n",
       "3  1900-07-07T00:00:00Z         arbeiter_zeitung   \n",
       "4  1921-11-26T00:00:00Z  innsbrucker_nachrichten   \n",
       "\n",
       "                                            iiif_url  \\\n",
       "0  https://platform.newseye.eu/iiif/neue_freie_pr...   \n",
       "1  https://platform.newseye.eu/iiif/neue_freie_pr...   \n",
       "2  https://platform.newseye.eu/iiif/neue_freie_pr...   \n",
       "3  https://platform.newseye.eu/iiif/arbeiter_zeit...   \n",
       "4  https://platform.newseye.eu/iiif/innsbrucker_n...   \n",
       "\n",
       "                                                text  \n",
       "0  m November schreibt der Auswanderer einen Brie...  \n",
       "1  [Auswanderer.] Vorgestern Abends sind 21 Perso...  \n",
       "2  Möbel aller Art,\\numarbeiten, modernisieren, a...  \n",
       "3  Die rumänischen Auswanderer.\\nSchwer und Genos...  \n",
       "4  Vorarlberger Auswanderer. Wie uns aus Dorn\\nbi...  "
      ]
     },
     "execution_count": 43,
     "metadata": {},
     "output_type": "execute_result"
    }
   ],
   "source": [
    "df_all = df_all[df_all['text'].map(type) == str]\n",
    "df_all.dropna(axis=0, inplace=True, subset=['text'])\n",
    "# shuffle the data\n",
    "df_all = df_all.sample(frac=1.0)\n",
    "df_all.reset_index(drop=True,inplace=True)\n",
    "df_all.head()"
   ]
  },
  {
   "cell_type": "markdown",
   "metadata": {},
   "source": [
    "## Clean (pre-process) your whole collection <a class=\"anchor\" id=\"18-bullet\"></a>\n",
    "\n",
    "You repeat the same steps you did with your training and test corpus"
   ]
  },
  {
   "cell_type": "code",
   "execution_count": 44,
   "metadata": {},
   "outputs": [],
   "source": [
    "df_all['tokenized'] = df_all['text'].apply(apply_all) "
   ]
  },
  {
   "cell_type": "markdown",
   "metadata": {},
   "source": [
    "#### Again, have a look at your data"
   ]
  },
  {
   "cell_type": "code",
   "execution_count": 45,
   "metadata": {},
   "outputs": [
    {
     "data": {
      "text/plain": [
       "'The number of unique words is 8004'"
      ]
     },
     "execution_count": 45,
     "metadata": {},
     "output_type": "execute_result"
    }
   ],
   "source": [
    "# first get a list of all words\n",
    "all_words = [word for item in list(df_all['tokenized']) for word in item]\n",
    "# use nltk fdist to get a frequency distribution of all words\n",
    "fdist = FreqDist(all_words)\n",
    "f\"The number of unique words is {len(fdist)}\""
   ]
  },
  {
   "cell_type": "code",
   "execution_count": 46,
   "metadata": {},
   "outputs": [
    {
     "name": "stdout",
     "output_type": "stream",
     "text": [
      "length of list: 1004\n",
      "average document length: 19.74203187250996\n",
      "minimum document length: 0\n",
      "maximum document length: 232\n"
     ]
    }
   ],
   "source": [
    "#document length\n",
    "df_all['doc_len'] = df_all['tokenized'].apply(lambda x: len(x))\n",
    "doc_lengths = list(df_all['doc_len'])\n",
    "df_all.drop(labels='doc_len', axis=1, inplace=True)\n",
    "\n",
    "\n",
    "print(f\"length of list: {len(doc_lengths)}\")\n",
    "print(f\"average document length: {np.average(doc_lengths)}\")\n",
    "print(f\"minimum document length: {min(doc_lengths)}\")\n",
    "print(f\"maximum document length: {max(doc_lengths)}\")"
   ]
  },
  {
   "cell_type": "markdown",
   "metadata": {},
   "source": [
    "#### Remove articles that are smaller than 5 tokens"
   ]
  },
  {
   "cell_type": "code",
   "execution_count": 47,
   "metadata": {},
   "outputs": [
    {
     "name": "stdout",
     "output_type": "stream",
     "text": [
      "After cleaning and excluding short aticles, the dataframe now has: 790 articles\n",
      "After cleaning and excluding short aticles, the dataframe now has: 790 articles\n"
     ]
    }
   ],
   "source": [
    "df_all = df_all[df_all['tokenized'].map(len) >= 5]\n",
    "df_all = df_all[df_all['tokenized'].map(type) == list]\n",
    "df_all.reset_index(drop=True,inplace=True)\n",
    "print(\"After cleaning and excluding short aticles, the dataframe now has:\", len(df_all), \"articles\")\n",
    "\n",
    "df_all_2 = df_all[df_all['tokenized'].map(len) >= 5]\n",
    "df_all_2 = df_all[df_all['tokenized'].map(type) == list]\n",
    "df_all_2.reset_index(drop=True,inplace=True)\n",
    "print(\"After cleaning and excluding short aticles, the dataframe now has:\", len(df_all), \"articles\")"
   ]
  },
  {
   "cell_type": "markdown",
   "metadata": {},
   "source": [
    "#### Make a BOW (bag of words) for every document and get feature vectores for your whole collection"
   ]
  },
  {
   "cell_type": "code",
   "execution_count": 48,
   "metadata": {},
   "outputs": [],
   "source": [
    "def document_to_bow(df):\n",
    "    df['bow'] = list(map(lambda doc: dictionary.doc2bow(doc), df_all['tokenized']))\n",
    "    \n",
    "document_to_bow(df_all)"
   ]
  },
  {
   "cell_type": "code",
   "execution_count": 49,
   "metadata": {},
   "outputs": [],
   "source": [
    "df_all['lda_features'] = list(map(lambda doc:\n",
    "                                     document_to_lda_features(lda, doc),\n",
    "                                     df_all.bow))"
   ]
  },
  {
   "cell_type": "code",
   "execution_count": 50,
   "metadata": {},
   "outputs": [],
   "source": [
    "X_all_lda = np.array(list(map(np.array, df_all.lda_features)))"
   ]
  },
  {
   "cell_type": "markdown",
   "metadata": {},
   "source": [
    "## Now it is time to make the classifications for the whole collection <a class=\"anchor\" id=\"19-bullet\"></a>"
   ]
  },
  {
   "cell_type": "code",
   "execution_count": 51,
   "metadata": {},
   "outputs": [],
   "source": [
    "submission_predictions = best_lr_lda.predict_proba(X_all_lda)"
   ]
  },
  {
   "cell_type": "markdown",
   "metadata": {},
   "source": [
    "To be able to create two different outputs, one with the results per category to check the result [57] and one with the results in the form of your original file [61], two different types of results are created. "
   ]
  },
  {
   "cell_type": "code",
   "execution_count": 52,
   "metadata": {},
   "outputs": [],
   "source": [
    "result= np.append(df_all.text.values.reshape(-1,1), submission_predictions, axis=1)\n"
   ]
  },
  {
   "cell_type": "code",
   "execution_count": 53,
   "metadata": {},
   "outputs": [],
   "source": [
    "result_2= np.append(df_all_2, submission_predictions, axis=1)"
   ]
  },
  {
   "cell_type": "code",
   "execution_count": 54,
   "metadata": {},
   "outputs": [],
   "source": [
    "submission_df_all = pd.DataFrame(data=result, columns=['text', 'ads', 'news', 'culture', 'appeals', 'crime', 'finance', 'statistic'])\n",
    "submission_df_all_2 = pd.DataFrame(data=result_2, columns=['id','language','date','newspaper_id','iiif_url','text', 'token', 'ads', 'news', 'culture', 'appeals', 'crime', 'finance', 'statistic'])"
   ]
  },
  {
   "cell_type": "code",
   "execution_count": 55,
   "metadata": {},
   "outputs": [
    {
     "data": {
      "text/html": [
       "<div>\n",
       "<style scoped>\n",
       "    .dataframe tbody tr th:only-of-type {\n",
       "        vertical-align: middle;\n",
       "    }\n",
       "\n",
       "    .dataframe tbody tr th {\n",
       "        vertical-align: top;\n",
       "    }\n",
       "\n",
       "    .dataframe thead th {\n",
       "        text-align: right;\n",
       "    }\n",
       "</style>\n",
       "<table border=\"1\" class=\"dataframe\">\n",
       "  <thead>\n",
       "    <tr style=\"text-align: right;\">\n",
       "      <th></th>\n",
       "      <th>text</th>\n",
       "      <th>ads</th>\n",
       "      <th>news</th>\n",
       "      <th>culture</th>\n",
       "      <th>appeals</th>\n",
       "      <th>crime</th>\n",
       "      <th>finance</th>\n",
       "      <th>statistic</th>\n",
       "    </tr>\n",
       "  </thead>\n",
       "  <tbody>\n",
       "    <tr>\n",
       "      <td>0</td>\n",
       "      <td>m November schreibt der Auswanderer einen Brie...</td>\n",
       "      <td>0.140454</td>\n",
       "      <td>0.15071</td>\n",
       "      <td>0.166249</td>\n",
       "      <td>0.102266</td>\n",
       "      <td>0.195246</td>\n",
       "      <td>0.119932</td>\n",
       "      <td>0.125143</td>\n",
       "    </tr>\n",
       "    <tr>\n",
       "      <td>1</td>\n",
       "      <td>[Auswanderer.] Vorgestern Abends sind 21 Perso...</td>\n",
       "      <td>0.144553</td>\n",
       "      <td>0.14397</td>\n",
       "      <td>0.134297</td>\n",
       "      <td>0.111125</td>\n",
       "      <td>0.161924</td>\n",
       "      <td>0.118766</td>\n",
       "      <td>0.185364</td>\n",
       "    </tr>\n",
       "    <tr>\n",
       "      <td>2</td>\n",
       "      <td>Möbel aller Art,\\numarbeiten, modernisieren, a...</td>\n",
       "      <td>0.212647</td>\n",
       "      <td>0.117396</td>\n",
       "      <td>0.203275</td>\n",
       "      <td>0.124192</td>\n",
       "      <td>0.112938</td>\n",
       "      <td>0.11675</td>\n",
       "      <td>0.112802</td>\n",
       "    </tr>\n",
       "    <tr>\n",
       "      <td>3</td>\n",
       "      <td>Die rumänischen Auswanderer.\\nSchwer und Genos...</td>\n",
       "      <td>0.124218</td>\n",
       "      <td>0.138084</td>\n",
       "      <td>0.170349</td>\n",
       "      <td>0.179223</td>\n",
       "      <td>0.15202</td>\n",
       "      <td>0.119175</td>\n",
       "      <td>0.116931</td>\n",
       "    </tr>\n",
       "    <tr>\n",
       "      <td>4</td>\n",
       "      <td>Vorarlberger Auswanderer. Wie uns aus Dorn\\nbi...</td>\n",
       "      <td>0.143376</td>\n",
       "      <td>0.128926</td>\n",
       "      <td>0.141088</td>\n",
       "      <td>0.138462</td>\n",
       "      <td>0.150697</td>\n",
       "      <td>0.121163</td>\n",
       "      <td>0.176289</td>\n",
       "    </tr>\n",
       "  </tbody>\n",
       "</table>\n",
       "</div>"
      ],
      "text/plain": [
       "                                                text       ads      news  \\\n",
       "0  m November schreibt der Auswanderer einen Brie...  0.140454   0.15071   \n",
       "1  [Auswanderer.] Vorgestern Abends sind 21 Perso...  0.144553   0.14397   \n",
       "2  Möbel aller Art,\\numarbeiten, modernisieren, a...  0.212647  0.117396   \n",
       "3  Die rumänischen Auswanderer.\\nSchwer und Genos...  0.124218  0.138084   \n",
       "4  Vorarlberger Auswanderer. Wie uns aus Dorn\\nbi...  0.143376  0.128926   \n",
       "\n",
       "    culture   appeals     crime   finance statistic  \n",
       "0  0.166249  0.102266  0.195246  0.119932  0.125143  \n",
       "1  0.134297  0.111125  0.161924  0.118766  0.185364  \n",
       "2  0.203275  0.124192  0.112938   0.11675  0.112802  \n",
       "3  0.170349  0.179223   0.15202  0.119175  0.116931  \n",
       "4  0.141088  0.138462  0.150697  0.121163  0.176289  "
      ]
     },
     "execution_count": 55,
     "metadata": {},
     "output_type": "execute_result"
    }
   ],
   "source": [
    "submission_df_all.head(5)"
   ]
  },
  {
   "cell_type": "markdown",
   "metadata": {},
   "source": [
    "## Create a dataframe with the results <a class=\"anchor\" id=\"20-bullet\"></a>"
   ]
  },
  {
   "cell_type": "code",
   "execution_count": 56,
   "metadata": {},
   "outputs": [],
   "source": [
    "max_num = submission_df_all.loc[:, submission_df_all.columns != 'text'].max(axis=1)"
   ]
  },
  {
   "cell_type": "code",
   "execution_count": 57,
   "metadata": {},
   "outputs": [],
   "source": [
    "ads = submission_df_all[['text']][submission_df_all['ads'].isin(max_num)]\n",
    "news = submission_df_all[['text']][submission_df_all['news'].isin(max_num)]\n",
    "culture = submission_df_all[['text']][submission_df_all['culture'].isin(max_num)]\n",
    "appeals = submission_df_all[['text']][submission_df_all['appeals'].isin(max_num)]\n",
    "crime = submission_df_all[['text']][submission_df_all['crime'].isin(max_num)]\n",
    "finance = submission_df_all[['text']][submission_df_all['finance'].isin(max_num)]\n",
    "statistic = submission_df_all[['text']][submission_df_all['statistic'].isin(max_num)]"
   ]
  },
  {
   "cell_type": "code",
   "execution_count": 58,
   "metadata": {},
   "outputs": [
    {
     "data": {
      "text/html": [
       "<div>\n",
       "<style scoped>\n",
       "    .dataframe tbody tr th:only-of-type {\n",
       "        vertical-align: middle;\n",
       "    }\n",
       "\n",
       "    .dataframe tbody tr th {\n",
       "        vertical-align: top;\n",
       "    }\n",
       "\n",
       "    .dataframe thead th {\n",
       "        text-align: right;\n",
       "    }\n",
       "</style>\n",
       "<table border=\"1\" class=\"dataframe\">\n",
       "  <thead>\n",
       "    <tr style=\"text-align: right;\">\n",
       "      <th></th>\n",
       "      <th>Ads</th>\n",
       "      <th>News</th>\n",
       "      <th>Culture_Literatur</th>\n",
       "      <th>Appeals_Donations</th>\n",
       "      <th>Crime</th>\n",
       "      <th>Finance</th>\n",
       "      <th>Statistic</th>\n",
       "    </tr>\n",
       "  </thead>\n",
       "  <tbody>\n",
       "    <tr>\n",
       "      <td>20</td>\n",
       "      <td>* Monate Auswanderer,\\n* Manuscript 5 Bogen, z...</td>\n",
       "      <td>[Auswanderer=Elend.] Aus Genna wird uns\\ngemel...</td>\n",
       "      <td>at- \\nGel\\naneenene\\nK\\n* Junimondane\\nahansch...</td>\n",
       "      <td>Für die armen rumänischen Auswanderer (vide\\nM...</td>\n",
       "      <td>Hiebei werden die Polizeiorgane zeitweise auch...</td>\n",
       "      <td>interrichtet\\nVorgeschrittene, auch Auswandere...</td>\n",
       "      <td>In den fünf Ausreisen wurden von der Canadian\\...</td>\n",
       "    </tr>\n",
       "    <tr>\n",
       "      <td>21</td>\n",
       "      <td>Für Auswanderer\\nprima Existenz. Verkaufe\\nlei...</td>\n",
       "      <td>[Czechische Auswanderer in Rußland.] Wie die\\n...</td>\n",
       "      <td>Durchzugsland benützt werden, zumindest\\ndie g...</td>\n",
       "      <td>Für die armen rumänischen Auswanderer (vide Mo...</td>\n",
       "      <td>Seit dem Jahre 1898 wird auf dem Innsbrucker H...</td>\n",
       "      <td>Mit den bedenkenlosesten Mitteln ist dieser Fe...</td>\n",
       "      <td>rinen kleinen Rückgang, der auf die Verminderu...</td>\n",
       "    </tr>\n",
       "    <tr>\n",
       "      <td>22</td>\n",
       "      <td>furse für Französisch,\\nItalienisch, Ungarisch...</td>\n",
       "      <td>Auf die über Udine nach Genua anlangenden Ausw...</td>\n",
       "      <td>Wiener „Urania“ gegebenen „Auswanderer, Szenen...</td>\n",
       "      <td>Habe wird den armen Leuten abgeschwindelt, die...</td>\n",
       "      <td>* Oesterreicher im Ansland. Man schreibt uns: ...</td>\n",
       "      <td>dami ist eine Hehn.....  Ware und\\nverknüpit, ...</td>\n",
       "      <td>Der Poolvertrag ist in erster Reihe dazu besti...</td>\n",
       "    </tr>\n",
       "    <tr>\n",
       "      <td>23</td>\n",
       "      <td>[Ein Tckgekehrter Auswanderer.] Zu den dieser ...</td>\n",
       "      <td>In wenigen Tagen wird das Schiff vom\\nWinterha...</td>\n",
       "      <td>Verein dentschösterreichischer Auswanderer. Ös...</td>\n",
       "      <td>Für die armen rumänischen Auswanderer (vide Mo...</td>\n",
       "      <td>Er ist mit dem 30jährigen russischen Auswander...</td>\n",
       "      <td>(Eine Auskunftsstelle für Auswanderer.)\\nAnges...</td>\n",
       "      <td>Im Jahre 1911 wurde der General Pool erneuert,...</td>\n",
       "    </tr>\n",
       "    <tr>\n",
       "      <td>24</td>\n",
       "      <td>Achtung Auswanderer!\\nKostenlose Ueberfahrt un...</td>\n",
       "      <td>Eine Anzahl von Kommissären des Sicherheitsbur...</td>\n",
       "      <td>sind zwei starke Bücher. Noch vor einem Mensch...</td>\n",
       "      <td>(Hausgehilfinnen im Auslande.) Die Auskunftsst...</td>\n",
       "      <td>In Krakau befinden sich noch etwa fünfzig Ausw...</td>\n",
       "      <td>angelegenheiten (überseeisch#o und kontinental...</td>\n",
       "      <td>Smith, Karte der Vereinigten Staaten von\\nMord...</td>\n",
       "    </tr>\n",
       "  </tbody>\n",
       "</table>\n",
       "</div>"
      ],
      "text/plain": [
       "                                                  Ads  \\\n",
       "20  * Monate Auswanderer,\\n* Manuscript 5 Bogen, z...   \n",
       "21  Für Auswanderer\\nprima Existenz. Verkaufe\\nlei...   \n",
       "22  furse für Französisch,\\nItalienisch, Ungarisch...   \n",
       "23  [Ein Tckgekehrter Auswanderer.] Zu den dieser ...   \n",
       "24  Achtung Auswanderer!\\nKostenlose Ueberfahrt un...   \n",
       "\n",
       "                                                 News  \\\n",
       "20  [Auswanderer=Elend.] Aus Genna wird uns\\ngemel...   \n",
       "21  [Czechische Auswanderer in Rußland.] Wie die\\n...   \n",
       "22  Auf die über Udine nach Genua anlangenden Ausw...   \n",
       "23  In wenigen Tagen wird das Schiff vom\\nWinterha...   \n",
       "24  Eine Anzahl von Kommissären des Sicherheitsbur...   \n",
       "\n",
       "                                    Culture_Literatur  \\\n",
       "20  at- \\nGel\\naneenene\\nK\\n* Junimondane\\nahansch...   \n",
       "21  Durchzugsland benützt werden, zumindest\\ndie g...   \n",
       "22  Wiener „Urania“ gegebenen „Auswanderer, Szenen...   \n",
       "23  Verein dentschösterreichischer Auswanderer. Ös...   \n",
       "24  sind zwei starke Bücher. Noch vor einem Mensch...   \n",
       "\n",
       "                                    Appeals_Donations  \\\n",
       "20  Für die armen rumänischen Auswanderer (vide\\nM...   \n",
       "21  Für die armen rumänischen Auswanderer (vide Mo...   \n",
       "22  Habe wird den armen Leuten abgeschwindelt, die...   \n",
       "23  Für die armen rumänischen Auswanderer (vide Mo...   \n",
       "24  (Hausgehilfinnen im Auslande.) Die Auskunftsst...   \n",
       "\n",
       "                                                Crime  \\\n",
       "20  Hiebei werden die Polizeiorgane zeitweise auch...   \n",
       "21  Seit dem Jahre 1898 wird auf dem Innsbrucker H...   \n",
       "22  * Oesterreicher im Ansland. Man schreibt uns: ...   \n",
       "23  Er ist mit dem 30jährigen russischen Auswander...   \n",
       "24  In Krakau befinden sich noch etwa fünfzig Ausw...   \n",
       "\n",
       "                                              Finance  \\\n",
       "20  interrichtet\\nVorgeschrittene, auch Auswandere...   \n",
       "21  Mit den bedenkenlosesten Mitteln ist dieser Fe...   \n",
       "22  dami ist eine Hehn.....  Ware und\\nverknüpit, ...   \n",
       "23  (Eine Auskunftsstelle für Auswanderer.)\\nAnges...   \n",
       "24  angelegenheiten (überseeisch#o und kontinental...   \n",
       "\n",
       "                                            Statistic  \n",
       "20  In den fünf Ausreisen wurden von der Canadian\\...  \n",
       "21  rinen kleinen Rückgang, der auf die Verminderu...  \n",
       "22  Der Poolvertrag ist in erster Reihe dazu besti...  \n",
       "23  Im Jahre 1911 wurde der General Pool erneuert,...  \n",
       "24  Smith, Karte der Vereinigten Staaten von\\nMord...  "
      ]
     },
     "execution_count": 58,
     "metadata": {},
     "output_type": "execute_result"
    }
   ],
   "source": [
    "#transform your lists into a dataframe\n",
    "\n",
    "df_ads = pd.DataFrame(np.column_stack([ads]), \n",
    "                               columns=['Ads'])\n",
    "\n",
    "\n",
    "df_news = pd.DataFrame(np.column_stack([news]), \n",
    "                               columns=['News'])\n",
    "\n",
    "df_culture = pd.DataFrame(np.column_stack([culture]), \n",
    "                               columns=['Culture_Literature'])\n",
    "\n",
    "df_appeals = pd.DataFrame(np.column_stack([appeals]), \n",
    "                               columns=['Appeals_Donations'])\n",
    "\n",
    "df_crime = pd.DataFrame(np.column_stack([crime]), \n",
    "                               columns=['Crime'])\n",
    "\n",
    "\n",
    "\n",
    "df_finance = pd.DataFrame(np.column_stack([finance]), \n",
    "                               columns=['Finance'])\n",
    "\n",
    "df_statistic = pd.DataFrame(np.column_stack([statistic]), \n",
    "                               columns=['Statistic'])\n",
    "\n",
    "df_results = pd.concat([df_ads, df_news, df_culture, df_appeals, df_crime, df_finance, df_statistic], ignore_index=True, axis=1)\n",
    "df_results.columns=['Ads','News', 'Culture_Literatur', 'Appeals_Donations', 'Crime', 'Finance', 'Statistic']\n",
    "df_results[20:25]"
   ]
  },
  {
   "cell_type": "markdown",
   "metadata": {},
   "source": [
    "### Now export your dataframe in order to check the results"
   ]
  },
  {
   "cell_type": "code",
   "execution_count": 59,
   "metadata": {},
   "outputs": [],
   "source": [
    "df_results.to_excel(\"results_auswanderung.xlsx\") "
   ]
  },
  {
   "cell_type": "markdown",
   "metadata": {},
   "source": [
    "### Get the dates for your classified articles\n",
    "You will need them later for the visualization"
   ]
  },
  {
   "cell_type": "code",
   "execution_count": 66,
   "metadata": {},
   "outputs": [],
   "source": [
    "# Extract the dates for the visualization for every category\n",
    "date_ads = []\n",
    "ads = submission_df_all_2[['id','language','date','newspaper_id','iiif_url','text']][submission_df_all['ads'].isin(max_num)]\n",
    "date = submission_df_all_2['date'][submission_df_all['ads'].isin(max_num)]\n",
    "for key in date: \n",
    "    date_ads.append(key[:4])\n",
    "# Transform the dates from strings to integers\n",
    "for i in range(0, len(date_ads)): \n",
    "    date_ads[i] = int(date_ads[i]) \n",
    "news = submission_df_all_2[['id','language','date','newspaper_id','iiif_url','text']][submission_df_all['news'].isin(max_num)]\n",
    "date_news = []\n",
    "date = submission_df_all_2['date'][submission_df_all['news'].isin(max_num)]\n",
    "for key in date: \n",
    "    date_news.append(key[:4])\n",
    "for i in range(0, len(date_news)): \n",
    "    date_news[i] = int(date_news[i])\n",
    "culture = submission_df_all_2[['id','language','date','newspaper_id','iiif_url','text']][submission_df_all['culture'].isin(max_num)]\n",
    "date_culture = []\n",
    "date = submission_df_all_2['date'][submission_df_all['culture'].isin(max_num)]\n",
    "for key in date: \n",
    "    date_culture.append(key[:4])\n",
    "for i in range(0, len(date_culture)): \n",
    "    date_culture[i] = int(date_culture[i])\n",
    "appeals = submission_df_all_2[['id','language','date','newspaper_id','iiif_url','text']][submission_df_all['appeals'].isin(max_num)]\n",
    "date_appeals = []\n",
    "date = submission_df_all_2['date'][submission_df_all['appeals'].isin(max_num)]\n",
    "for key in date: \n",
    "    date_appeals.append(key[:4])\n",
    "for i in range(0, len(date_appeals)): \n",
    "    date_appeals[i] = int(date_appeals[i])\n",
    "crime = submission_df_all_2[['id','language','date','newspaper_id','iiif_url','text']][submission_df_all['crime'].isin(max_num)]\n",
    "date_crime = []\n",
    "date = submission_df_all_2['date'][submission_df_all['crime'].isin(max_num)]\n",
    "for key in date: \n",
    "    date_crime.append(key[:4])\n",
    "for i in range(0, len(date_crime)): \n",
    "    date_crime[i] = int(date_crime[i])\n",
    "finance = submission_df_all_2[['id','language','date','newspaper_id','iiif_url','text']][submission_df_all['finance'].isin(max_num)]\n",
    "date_finance = []\n",
    "date = submission_df_all_2['date'][submission_df_all['finance'].isin(max_num)]\n",
    "for key in date: \n",
    "    date_finance.append(key[:4])\n",
    "for i in range(0, len(date_finance)): \n",
    "    date_finance[i] = int(date_finance[i])\n",
    "statistic = submission_df_all_2[['id','language','date','newspaper_id','iiif_url','text']][submission_df_all['statistic'].isin(max_num)]\n",
    "date_statistic = []\n",
    "date = submission_df_all_2['date'][submission_df_all['statistic'].isin(max_num)]\n",
    "for key in date: \n",
    "    date_statistic.append(key[:4])\n",
    "for i in range(0, len(date_statistic)): \n",
    "    date_statistic[i] = int(date_statistic[i])"
   ]
  },
  {
   "cell_type": "markdown",
   "metadata": {},
   "source": [
    "## If you are satisfied with the results, you can save them in the form of your original file <a class=\"anchor\" id=\"21-bullet\"></a>\n",
    "\n",
    "Otherwise, try to repeat the process"
   ]
  },
  {
   "cell_type": "code",
   "execution_count": 61,
   "metadata": {},
   "outputs": [],
   "source": [
    "#transform your lists into a dataframe\n",
    "\n",
    "df_ads = pd.DataFrame(np.column_stack([ads]), \n",
    "                               columns=['id','language','date','newspaper_id','iiif_url','text'])\n",
    "\n",
    "\n",
    "df_news = pd.DataFrame(np.column_stack([news]), \n",
    "                               columns=['id','language','date','newspaper_id','iiif_url','text'])\n",
    "\n",
    "df_culture = pd.DataFrame(np.column_stack([culture]), \n",
    "                               columns=['id','language','date','newspaper_id','iiif_url','text'])\n",
    "\n",
    "df_appeals = pd.DataFrame(np.column_stack([appeals]), \n",
    "                               columns=['id','language','date','newspaper_id','iiif_url','text'])\n",
    "\n",
    "df_crime = pd.DataFrame(np.column_stack([crime]), \n",
    "                               columns=['id','language','date','newspaper_id','iiif_url','text'])\n",
    "\n",
    "df_finance = pd.DataFrame(np.column_stack([finance]), \n",
    "                               columns=['id','language','date','newspaper_id','iiif_url','text'])\n",
    "\n",
    "df_statistic = pd.DataFrame(np.column_stack([statistic]), \n",
    "                               columns=['id','language','date','newspaper_id','iiif_url','text'])\n"
   ]
  },
  {
   "cell_type": "markdown",
   "metadata": {},
   "source": [
    "### Have a look at your data\n",
    "you can create this for every category"
   ]
  },
  {
   "cell_type": "code",
   "execution_count": 62,
   "metadata": {},
   "outputs": [
    {
     "data": {
      "text/html": [
       "<div>\n",
       "<style scoped>\n",
       "    .dataframe tbody tr th:only-of-type {\n",
       "        vertical-align: middle;\n",
       "    }\n",
       "\n",
       "    .dataframe tbody tr th {\n",
       "        vertical-align: top;\n",
       "    }\n",
       "\n",
       "    .dataframe thead th {\n",
       "        text-align: right;\n",
       "    }\n",
       "</style>\n",
       "<table border=\"1\" class=\"dataframe\">\n",
       "  <thead>\n",
       "    <tr style=\"text-align: right;\">\n",
       "      <th></th>\n",
       "      <th>id</th>\n",
       "      <th>language</th>\n",
       "      <th>date</th>\n",
       "      <th>newspaper_id</th>\n",
       "      <th>iiif_url</th>\n",
       "      <th>text</th>\n",
       "    </tr>\n",
       "  </thead>\n",
       "  <tbody>\n",
       "    <tr>\n",
       "      <td>0</td>\n",
       "      <td>neue_freie_presse_nfp19120516_article_503</td>\n",
       "      <td>de</td>\n",
       "      <td>1912-05-16T00:00:00Z</td>\n",
       "      <td>neue_freie_presse</td>\n",
       "      <td>https://platform.newseye.eu/iiif/neue_freie_pr...</td>\n",
       "      <td>300= bis 400.000 Menschen erreicht. Für die Au...</td>\n",
       "    </tr>\n",
       "    <tr>\n",
       "      <td>1</td>\n",
       "      <td>neue_freie_presse_nfp18950814_article_284</td>\n",
       "      <td>de</td>\n",
       "      <td>1895-08-14T00:00:00Z</td>\n",
       "      <td>neue_freie_presse</td>\n",
       "      <td>https://platform.newseye.eu/iiif/neue_freie_pr...</td>\n",
       "      <td>[Ein Auswanderer=Lager.] Wie im Abendblatte ge...</td>\n",
       "    </tr>\n",
       "    <tr>\n",
       "      <td>2</td>\n",
       "      <td>innsbrucker_nachrichten_ibn19350727_article_1126</td>\n",
       "      <td>de</td>\n",
       "      <td>1935-07-27T00:00:00Z</td>\n",
       "      <td>innsbrucker_nachrichten</td>\n",
       "      <td>https://platform.newseye.eu/iiif/innsbrucker_n...</td>\n",
       "      <td>Auswanderer nach Paraguay. Wer sich unserer\\nG...</td>\n",
       "    </tr>\n",
       "    <tr>\n",
       "      <td>3</td>\n",
       "      <td>innsbrucker_nachrichten_ibn19120615_article_95</td>\n",
       "      <td>de</td>\n",
       "      <td>1912-06-15T00:00:00Z</td>\n",
       "      <td>innsbrucker_nachrichten</td>\n",
       "      <td>https://platform.newseye.eu/iiif/innsbrucker_n...</td>\n",
       "      <td>(Auswanderer.) Heute früh sind aus\\nAmerika 25...</td>\n",
       "    </tr>\n",
       "    <tr>\n",
       "      <td>4</td>\n",
       "      <td>innsbrucker_nachrichten_ibn18650617_article_20</td>\n",
       "      <td>de</td>\n",
       "      <td>1865-06-17T00:00:00Z</td>\n",
       "      <td>innsbrucker_nachrichten</td>\n",
       "      <td>https://platform.newseye.eu/iiif/innsbrucker_n...</td>\n",
       "      <td>versehene Auswanderer landen dürfen, wurde auf...</td>\n",
       "    </tr>\n",
       "    <tr>\n",
       "      <td>...</td>\n",
       "      <td>...</td>\n",
       "      <td>...</td>\n",
       "      <td>...</td>\n",
       "      <td>...</td>\n",
       "      <td>...</td>\n",
       "      <td>...</td>\n",
       "    </tr>\n",
       "    <tr>\n",
       "      <td>150</td>\n",
       "      <td>arbeiter_zeitung_aze19140702_article_196</td>\n",
       "      <td>de</td>\n",
       "      <td>1914-07-02T00:00:00Z</td>\n",
       "      <td>arbeiter_zeitung</td>\n",
       "      <td>https://platform.newseye.eu/iiif/arbeiter_zeit...</td>\n",
       "      <td>und in Gasthäusern ab. Andere Gehirfen. .. Jah...</td>\n",
       "    </tr>\n",
       "    <tr>\n",
       "      <td>151</td>\n",
       "      <td>neue_freie_presse_nfp18650523_article_719</td>\n",
       "      <td>de</td>\n",
       "      <td>1865-05-23T00:00:00Z</td>\n",
       "      <td>neue_freie_presse</td>\n",
       "      <td>https://platform.newseye.eu/iiif/neue_freie_pr...</td>\n",
       "      <td>Die Regierung wird stricte Neutralität in der ...</td>\n",
       "    </tr>\n",
       "    <tr>\n",
       "      <td>152</td>\n",
       "      <td>neue_freie_presse_nfp18980810_article_462</td>\n",
       "      <td>de</td>\n",
       "      <td>1898-08-10T00:00:00Z</td>\n",
       "      <td>neue_freie_presse</td>\n",
       "      <td>https://platform.newseye.eu/iiif/neue_freie_pr...</td>\n",
       "      <td>schlusses von Specialverträgen mit einer oder ...</td>\n",
       "    </tr>\n",
       "    <tr>\n",
       "      <td>153</td>\n",
       "      <td>arbeiter_zeitung_aze18960607_article_73</td>\n",
       "      <td>de</td>\n",
       "      <td>1896-06-07T00:00:00Z</td>\n",
       "      <td>arbeiter_zeitung</td>\n",
       "      <td>https://platform.newseye.eu/iiif/arbeiter_zeit...</td>\n",
       "      <td>Abgeordneter Fischer bespricht die Schwierigke...</td>\n",
       "    </tr>\n",
       "    <tr>\n",
       "      <td>154</td>\n",
       "      <td>innsbrucker_nachrichten_ibn19200723_article_96</td>\n",
       "      <td>de</td>\n",
       "      <td>1920-07-23T00:00:00Z</td>\n",
       "      <td>innsbrucker_nachrichten</td>\n",
       "      <td>https://platform.newseye.eu/iiif/innsbrucker_n...</td>\n",
       "      <td>* Deutsche Auswanderer nach Sowjet=Rußland. De...</td>\n",
       "    </tr>\n",
       "  </tbody>\n",
       "</table>\n",
       "<p>155 rows × 6 columns</p>\n",
       "</div>"
      ],
      "text/plain": [
       "                                                   id language  \\\n",
       "0           neue_freie_presse_nfp19120516_article_503       de   \n",
       "1           neue_freie_presse_nfp18950814_article_284       de   \n",
       "2    innsbrucker_nachrichten_ibn19350727_article_1126       de   \n",
       "3      innsbrucker_nachrichten_ibn19120615_article_95       de   \n",
       "4      innsbrucker_nachrichten_ibn18650617_article_20       de   \n",
       "..                                                ...      ...   \n",
       "150          arbeiter_zeitung_aze19140702_article_196       de   \n",
       "151         neue_freie_presse_nfp18650523_article_719       de   \n",
       "152         neue_freie_presse_nfp18980810_article_462       de   \n",
       "153           arbeiter_zeitung_aze18960607_article_73       de   \n",
       "154    innsbrucker_nachrichten_ibn19200723_article_96       de   \n",
       "\n",
       "                     date             newspaper_id  \\\n",
       "0    1912-05-16T00:00:00Z        neue_freie_presse   \n",
       "1    1895-08-14T00:00:00Z        neue_freie_presse   \n",
       "2    1935-07-27T00:00:00Z  innsbrucker_nachrichten   \n",
       "3    1912-06-15T00:00:00Z  innsbrucker_nachrichten   \n",
       "4    1865-06-17T00:00:00Z  innsbrucker_nachrichten   \n",
       "..                    ...                      ...   \n",
       "150  1914-07-02T00:00:00Z         arbeiter_zeitung   \n",
       "151  1865-05-23T00:00:00Z        neue_freie_presse   \n",
       "152  1898-08-10T00:00:00Z        neue_freie_presse   \n",
       "153  1896-06-07T00:00:00Z         arbeiter_zeitung   \n",
       "154  1920-07-23T00:00:00Z  innsbrucker_nachrichten   \n",
       "\n",
       "                                              iiif_url  \\\n",
       "0    https://platform.newseye.eu/iiif/neue_freie_pr...   \n",
       "1    https://platform.newseye.eu/iiif/neue_freie_pr...   \n",
       "2    https://platform.newseye.eu/iiif/innsbrucker_n...   \n",
       "3    https://platform.newseye.eu/iiif/innsbrucker_n...   \n",
       "4    https://platform.newseye.eu/iiif/innsbrucker_n...   \n",
       "..                                                 ...   \n",
       "150  https://platform.newseye.eu/iiif/arbeiter_zeit...   \n",
       "151  https://platform.newseye.eu/iiif/neue_freie_pr...   \n",
       "152  https://platform.newseye.eu/iiif/neue_freie_pr...   \n",
       "153  https://platform.newseye.eu/iiif/arbeiter_zeit...   \n",
       "154  https://platform.newseye.eu/iiif/innsbrucker_n...   \n",
       "\n",
       "                                                  text  \n",
       "0    300= bis 400.000 Menschen erreicht. Für die Au...  \n",
       "1    [Ein Auswanderer=Lager.] Wie im Abendblatte ge...  \n",
       "2    Auswanderer nach Paraguay. Wer sich unserer\\nG...  \n",
       "3    (Auswanderer.) Heute früh sind aus\\nAmerika 25...  \n",
       "4    versehene Auswanderer landen dürfen, wurde auf...  \n",
       "..                                                 ...  \n",
       "150  und in Gasthäusern ab. Andere Gehirfen. .. Jah...  \n",
       "151  Die Regierung wird stricte Neutralität in der ...  \n",
       "152  schlusses von Specialverträgen mit einer oder ...  \n",
       "153  Abgeordneter Fischer bespricht die Schwierigke...  \n",
       "154  * Deutsche Auswanderer nach Sowjet=Rußland. De...  \n",
       "\n",
       "[155 rows x 6 columns]"
      ]
     },
     "execution_count": 62,
     "metadata": {},
     "output_type": "execute_result"
    }
   ],
   "source": [
    "df_news"
   ]
  },
  {
   "cell_type": "markdown",
   "metadata": {},
   "source": [
    "### Export your categorised collections"
   ]
  },
  {
   "cell_type": "code",
   "execution_count": 63,
   "metadata": {},
   "outputs": [],
   "source": [
    "df_news.to_csv('collection_news.csv')"
   ]
  },
  {
   "cell_type": "markdown",
   "metadata": {},
   "source": [
    "## Visualize your results <a class=\"anchor\" id=\"21-bullet\"></a>\n",
    "First, we are going to create a pie chart showing the distribution of every category"
   ]
  },
  {
   "cell_type": "code",
   "execution_count": 64,
   "metadata": {},
   "outputs": [
    {
     "data": {
      "image/png": "[encoded data removed]",
      "text/plain": [
       "<Figure size 1368x504 with 1 Axes>"
      ]
     },
     "metadata": {},
     "output_type": "display_data"
    }
   ],
   "source": [
    "import matplotlib.pyplot as plt\n",
    "plt.figure(figsize=(19, 7))\n",
    "# Data to plot\n",
    "labels = 'Advertisement', 'News', 'Culture_Literature_Stories_Letters', 'Appeals_Donations_Information', 'Crime', 'Finance', 'Statistic'\n",
    "sizes = [len(ads), len(news), len(culture), len(appeals), len(crime), len(finance), len(statistic)]\n",
    "colors = ['gold', 'yellowgreen', 'lightcoral', 'lightskyblue', 'blueviolet', 'darkturquoise', 'sandybrown', 'pink']\n",
    "explode = (0, 0, 0, 0, 0, 0, 0)  # explode 1st slice\n",
    "\n",
    "# Plot\n",
    "plt.pie(sizes, explode=explode, labels=labels, colors=colors,\n",
    "autopct='%1.1f%%', shadow=True, startangle=14)\n",
    "\n",
    "plt.axis('equal')\n",
    "plt.show()"
   ]
  },
  {
   "cell_type": "markdown",
   "metadata": {},
   "source": [
    "Finally, we are creating histograms to find out which category was very popular at what time"
   ]
  },
  {
   "cell_type": "code",
   "execution_count": 65,
   "metadata": {},
   "outputs": [
    {
     "data": {
      "image/png": "[encoded data removed]",
      "text/plain": [
       "<Figure size 2160x360 with 2 Axes>"
      ]
     },
     "metadata": {
      "needs_background": "light"
     },
     "output_type": "display_data"
    },
    {
     "data": {
      "image/png": "[encoded data removed]",
      "text/plain": [
       "<Figure size 2160x360 with 2 Axes>"
      ]
     },
     "metadata": {
      "needs_background": "light"
     },
     "output_type": "display_data"
    },
    {
     "data": {
      "image/png": "[encoded data removed]",
      "text/plain": [
       "<Figure size 2160x360 with 2 Axes>"
      ]
     },
     "metadata": {
      "needs_background": "light"
     },
     "output_type": "display_data"
    },
    {
     "data": {
      "image/png": "[encoded data removed]",
      "text/plain": [
       "<Figure size 2160x360 with 1 Axes>"
      ]
     },
     "metadata": {
      "needs_background": "light"
     },
     "output_type": "display_data"
    }
   ],
   "source": [
    "import matplotlib.axes as ax\n",
    "plt.figure(figsize=(30, 5))\n",
    "\n",
    "plt.subplot(121)\n",
    "plt.hist(date_ads, color = 'gold', orientation=\"vertical\")\n",
    "plt.xlabel('Advertisements', size= 'x-large')\n",
    "plt.subplot(122)\n",
    "plt.hist(date_news, color = 'yellowgreen')\n",
    "plt.xlabel('News', size= 'x-large')\n",
    "plt.show()\n",
    "plt.figure(figsize=(30, 5))\n",
    "plt.subplot(121)\n",
    "plt.hist(date_culture, color = 'lightskyblue')\n",
    "plt.xlabel('Culture_Literature_Storie_Letters', size= 'x-large')\n",
    "plt.subplot(122)\n",
    "plt.hist(date_appeals, color = 'lightcoral')\n",
    "plt.xlabel('Appeals_Donations_Information', size= 'x-large')\n",
    "plt.show()\n",
    "plt.figure(figsize=(30, 5))\n",
    "plt.subplot(121)\n",
    "plt.hist(date_crime, color = 'sandybrown')\n",
    "plt.xlabel('Crime', size= 'x-large')\n",
    "plt.subplot(122)\n",
    "plt.hist(date_finance, color = 'pink')\n",
    "plt.xlabel('Finance', size= 'x-large')\n",
    "plt.figure(figsize=(30, 5))\n",
    "plt.hist(date_statistic, color = 'darkturquoise')\n",
    "plt.xlabel('Statistic', size= 'x-large')\n",
    "plt.show()\n",
    "\n"
   ]
  }
 ],
 "metadata": {
  "kernelspec": {
   "display_name": "Python 3",
   "language": "python",
   "name": "python3"
  },
  "language_info": {
   "codemirror_mode": {
    "name": "ipython",
    "version": 3
   },
   "file_extension": ".py",
   "mimetype": "text/x-python",
   "name": "python",
   "nbconvert_exporter": "python",
   "pygments_lexer": "ipython3",
   "version": "3.7.4"
  }
 },
 "nbformat": 4,
 "nbformat_minor": 4
}
